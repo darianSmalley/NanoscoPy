{
    "cells": [
        {
            "cell_type": "code",
            "execution_count": null,
            "source": [
                "import sys\r\n",
                "import matplotlib.pyplot as plt\r\n",
                "import spiepy"
            ],
            "outputs": [],
            "metadata": {}
        },
        {
            "cell_type": "code",
            "execution_count": null,
            "source": [
                "import nanoscopy"
            ],
            "outputs": [],
            "metadata": {}
        },
        {
            "cell_type": "code",
            "execution_count": null,
            "source": [
                "sys.path.append(r\"G:\\Research\\AI_STM\\NanoscoPy\")\r\n",
                "import nanoscopy as nano"
            ],
            "outputs": [],
            "metadata": {}
        },
        {
            "cell_type": "code",
            "execution_count": null,
            "source": [
                "from tkinter import Tk, filedialog, Label\r\n",
                "root = Tk()\r\n",
                "Label(root, text=\"Select data folder\")\r\n",
                "folder_path = filedialog.askdirectory()\r\n",
                "root.destroy()"
            ],
            "outputs": [],
            "metadata": {}
        },
        {
            "cell_type": "code",
            "execution_count": null,
            "source": [
                "filter = 'STM_WTip_WSe2-SL333_Set2-Crystal2_Session2_'\r\n",
                "data, paths = nano.spm.io.read(folder_path, filter=filter)"
            ],
            "outputs": [],
            "metadata": {}
        },
        {
            "cell_type": "code",
            "execution_count": null,
            "source": [
                "flat_data = nano.spm.process.flatten(data)"
            ],
            "outputs": [],
            "metadata": {}
        },
        {
            "cell_type": "code",
            "execution_count": null,
            "source": [
                "fig, (ax1, ax2) = plt.subplots(1, 2)\r\n",
                "fig.suptitle('STM Image Post-Processing')\r\n",
                "fig.set_figheight(6)\r\n",
                "fig.set_figwidth(12)\r\n",
                "\r\n",
                "ax1.imshow(data[0] , cmap = spiepy.NANOMAP, origin = 'lower')\r\n",
                "ax1.set_title('Raw Image')\r\n",
                "ax2.imshow(flat_data[0] , cmap = spiepy.NANOMAP, origin = 'lower')\r\n",
                "ax2.set_title('Flattened and Smoothed Image')\r\n",
                "\r\n",
                "plt.show()"
            ],
            "outputs": [],
            "metadata": {}
        },
        {
            "cell_type": "code",
            "execution_count": null,
            "source": [
                "nano.spm.io.export_spm(flat_data, paths)"
            ],
            "outputs": [],
            "metadata": {}
        }
    ],
    "metadata": {
        "orig_nbformat": 4,
        "language_info": {
            "name": "python",
            "version": "3.8.8",
            "mimetype": "text/x-python",
            "codemirror_mode": {
                "name": "ipython",
                "version": 3
            },
            "pygments_lexer": "ipython3",
            "nbconvert_exporter": "python",
            "file_extension": ".py"
        },
        "kernelspec": {
            "name": "python3",
            "display_name": "Python 3.8.8 64-bit ('base': conda)"
        },
        "interpreter": {
            "hash": "a1e9e18bbd09a8c800ceeec2b28c7cd99449ee82a9c04924bd505e2564a08dc8"
        }
    },
    "nbformat": 4,
    "nbformat_minor": 2
}