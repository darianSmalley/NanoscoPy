{
 "cells": [
  {
   "cell_type": "markdown",
   "metadata": {},
   "source": [
    "# 1. Working with cells\n",
    "In python notebooks, text and code can be combined within the same document using \"cells\". There are two kinds of cells, \"Markddown\" and \"Code\". Markdown cells, like this one, show text and images. They are intended for reading. Code cells contain code blocks are can be executed. The output of the execution will be shown just below the cell within the notebook. You can create new cells by hovering the mouse near the bottom of an existing cell."
   ]
  },
  {
   "cell_type": "code",
   "execution_count": 83,
   "metadata": {},
   "outputs": [],
   "source": [
    "# This is an example of a comment within a code cell. Comments start with the \"#\" character \n",
    "# Commetns can be used to take notes or explain a piece of code\n",
    "# This cell will produce no output because comments are skipped by python."
   ]
  },
  {
   "cell_type": "markdown",
   "metadata": {},
   "source": [
    "# 2. Manipulating Lists\n",
    "Since lots of experimental data are produced as lists of numbers, we should review working with lists. In python, lists can be created in a few ways. The easiest is using the open and close square brackets. "
   ]
  },
  {
   "cell_type": "code",
   "execution_count": 8,
   "metadata": {},
   "outputs": [
    {
     "data": {
      "text/plain": [
       "[]"
      ]
     },
     "execution_count": 8,
     "metadata": {},
     "output_type": "execute_result"
    }
   ],
   "source": [
    "# This cell will produce an empty list as output upon execution\n",
    "[]"
   ]
  },
  {
   "cell_type": "markdown",
   "metadata": {},
   "source": [
    "We can put literal numbers in the list if we want. Cells will automatically print any unassigned values."
   ]
  },
  {
   "cell_type": "code",
   "execution_count": 4,
   "metadata": {},
   "outputs": [
    {
     "data": {
      "text/plain": [
       "[1, 2, 3]"
      ]
     },
     "execution_count": 4,
     "metadata": {},
     "output_type": "execute_result"
    }
   ],
   "source": [
    "[1,2,3]"
   ]
  },
  {
   "cell_type": "markdown",
   "metadata": {},
   "source": [
    "We can assign a list to a variable so we can operate on it."
   ]
  },
  {
   "cell_type": "code",
   "execution_count": 10,
   "metadata": {},
   "outputs": [],
   "source": [
    "# This cell will produce no output but the variable will be stored in memory\n",
    "x = [1,2,3]"
   ]
  },
  {
   "cell_type": "markdown",
   "metadata": {},
   "source": [
    "We can explicitly print the contents of the list."
   ]
  },
  {
   "cell_type": "code",
   "execution_count": 11,
   "metadata": {},
   "outputs": [
    {
     "name": "stdout",
     "output_type": "stream",
     "text": [
      "[1, 2, 3]\n"
     ]
    }
   ],
   "source": [
    "print(x)"
   ]
  },
  {
   "cell_type": "markdown",
   "metadata": {},
   "source": [
    "We can also use the cell to print the list fo us."
   ]
  },
  {
   "cell_type": "code",
   "execution_count": 12,
   "metadata": {},
   "outputs": [
    {
     "data": {
      "text/plain": [
       "[1, 2, 3]"
      ]
     },
     "execution_count": 12,
     "metadata": {},
     "output_type": "execute_result"
    }
   ],
   "source": [
    "x"
   ]
  },
  {
   "cell_type": "markdown",
   "metadata": {},
   "source": [
    "Vanilla lists in python follow certain rules which make them difficult to work with directly. "
   ]
  },
  {
   "cell_type": "code",
   "execution_count": 19,
   "metadata": {},
   "outputs": [
    {
     "name": "stdout",
     "output_type": "stream",
     "text": [
      "[1, 2, 3, 1, 2, 3]\n",
      "[1, 2, 3, 1, 2, 3]\n"
     ]
    }
   ],
   "source": [
    "# The usual arthematic operatiors, like + and *, don't behave like you might expect\n",
    "print(x+x)\n",
    "print(2*x)"
   ]
  },
  {
   "cell_type": "markdown",
   "metadata": {},
   "source": [
    "Instead we will import an open source package called NumPy (short for number python) which is helps make working with lists of numbers easier."
   ]
  },
  {
   "cell_type": "markdown",
   "metadata": {},
   "source": [
    "# 3. Using packages\n",
    "Packages are installed using a package manager. We use the \"import\" keyword to gain extra functionality not built-in to python directly."
   ]
  },
  {
   "cell_type": "code",
   "execution_count": 1,
   "metadata": {},
   "outputs": [],
   "source": [
    "# This line imports the numpy package and also gives it an alias (a nickname) called \"np\"\n",
    "# Aliases help reduce the amount of typing we have to do!\n",
    "import numpy as np"
   ]
  },
  {
   "cell_type": "markdown",
   "metadata": {},
   "source": [
    "Now we can use numpy to create an array. Numpy arrays are like super lists! They act more like matricies from linear alegbra. To create a new numpy array from an existing list, we call the array creation function from within the numpy package."
   ]
  },
  {
   "cell_type": "code",
   "execution_count": 20,
   "metadata": {},
   "outputs": [
    {
     "data": {
      "text/plain": [
       "array([1, 2, 3])"
      ]
     },
     "execution_count": 20,
     "metadata": {},
     "output_type": "execute_result"
    }
   ],
   "source": [
    "# Call the numpy array creation function using the \".\" operator and pass our list as an argument.\n",
    "np.array(x)"
   ]
  },
  {
   "cell_type": "markdown",
   "metadata": {},
   "source": [
    "Now we can easily do intuitive math operations on the list!"
   ]
  },
  {
   "cell_type": "code",
   "execution_count": 22,
   "metadata": {},
   "outputs": [
    {
     "name": "stdout",
     "output_type": "stream",
     "text": [
      "[2 4 6]\n",
      "[2 4 6]\n"
     ]
    }
   ],
   "source": [
    "y = np.array(x)\n",
    "print(y+y)\n",
    "print(2*y)"
   ]
  },
  {
   "cell_type": "markdown",
   "metadata": {},
   "source": [
    "We can also now access useful information about the array"
   ]
  },
  {
   "cell_type": "code",
   "execution_count": 24,
   "metadata": {},
   "outputs": [
    {
     "data": {
      "text/plain": [
       "(3,)"
      ]
     },
     "execution_count": 24,
     "metadata": {},
     "output_type": "execute_result"
    }
   ],
   "source": [
    "# Every numpy array has a shape property. \n",
    "# We can access this property using the \".\" operator on the array itself\n",
    "y.shape"
   ]
  },
  {
   "cell_type": "markdown",
   "metadata": {},
   "source": [
    "We can manipualte arrays as well. We can extend them, stack them, slice them, and others!"
   ]
  },
  {
   "cell_type": "code",
   "execution_count": 27,
   "metadata": {},
   "outputs": [
    {
     "data": {
      "text/plain": [
       "array([4, 5, 6])"
      ]
     },
     "execution_count": 27,
     "metadata": {},
     "output_type": "execute_result"
    }
   ],
   "source": [
    "# create a new array\n",
    "z = np.array([4, 5, 6])\n",
    "z"
   ]
  },
  {
   "cell_type": "markdown",
   "metadata": {},
   "source": [
    "We can select a subset of the array using the colon operator, \":\". "
   ]
  },
  {
   "cell_type": "code",
   "execution_count": 85,
   "metadata": {},
   "outputs": [
    {
     "data": {
      "text/plain": [
       "array([5, 6])"
      ]
     },
     "execution_count": 85,
     "metadata": {},
     "output_type": "execute_result"
    }
   ],
   "source": [
    "subet = z[1:4]\n",
    "subet"
   ]
  },
  {
   "cell_type": "markdown",
   "metadata": {},
   "source": [
    "We can use the numpy \"append\" function to concatenate two flattened array together"
   ]
  },
  {
   "cell_type": "code",
   "execution_count": 26,
   "metadata": {},
   "outputs": [
    {
     "data": {
      "text/plain": [
       "array([1, 2, 3, 4, 5, 6])"
      ]
     },
     "execution_count": 26,
     "metadata": {},
     "output_type": "execute_result"
    }
   ],
   "source": [
    "# Create a new array which is the concatenation of the two arrays\n",
    "np.append(y, z)"
   ]
  },
  {
   "cell_type": "markdown",
   "metadata": {},
   "source": [
    "We can also specifiy which axis to concatenate along using the \"axis\" keyword argument. This will let us stack the two arrays to create a matrix"
   ]
  },
  {
   "cell_type": "code",
   "execution_count": 34,
   "metadata": {},
   "outputs": [
    {
     "data": {
      "text/plain": [
       "array([[1, 2, 3],\n",
       "       [4, 5, 6]])"
      ]
     },
     "execution_count": 34,
     "metadata": {},
     "output_type": "execute_result"
    }
   ],
   "source": [
    "# Create a new array which is the concatenation of the two arrays along the row axis\n",
    "np.append([y], [z], axis=0)"
   ]
  },
  {
   "cell_type": "markdown",
   "metadata": {},
   "source": [
    "We can do all the usual arithmetic operations on numpy matricies"
   ]
  },
  {
   "cell_type": "code",
   "execution_count": 40,
   "metadata": {},
   "outputs": [
    {
     "name": "stdout",
     "output_type": "stream",
     "text": [
      "[[ 2  4  6]\n",
      " [ 8 10 12]]\n",
      "[[0.5 1.  1.5]\n",
      " [2.  2.5 3. ]]\n"
     ]
    }
   ],
   "source": [
    "a = np.append([y],[z], axis=0)\n",
    "print(2*a)\n",
    "print(a/2)"
   ]
  },
  {
   "cell_type": "markdown",
   "metadata": {},
   "source": [
    "# 4. Plotting data\n",
    "Python does not nativly include a way to make plots. So we turn to 3rd-party packages again! This time we will be using a part of a package called \"Matrix Plotting Library\" or matplotlib for short. We will be using the part designed for plotting in Python, called \"PyPlot\" or plt for short!"
   ]
  },
  {
   "cell_type": "code",
   "execution_count": 87,
   "metadata": {},
   "outputs": [],
   "source": [
    "# Imports pyplot from the matplotlib package and also creates an alias (a nickname) called \"plt\"\n",
    "# Now we can just refer to pyplot as \"plt\" when we want to call functions that it provides.\n",
    "import matplotlib.pyplot as plt"
   ]
  },
  {
   "cell_type": "markdown",
   "metadata": {},
   "source": [
    "The numpy package, which we imported earlier, includes the sine function. So lets use it to make a pretty plot! First, lets check the [definition of the sine function in Numpy](https://numpy.org/doc/stable/reference/generated/numpy.sin.html) to see what kind of input is expected. It looks like the array should be in radians. Since degrees are easier to write, lets quickly convert an array from degrees to raidans. Numpy includes a constant for $\\pi$:"
   ]
  },
  {
   "cell_type": "code",
   "execution_count": 45,
   "metadata": {},
   "outputs": [
    {
     "data": {
      "text/plain": [
       "3.141592653589793"
      ]
     },
     "execution_count": 45,
     "metadata": {},
     "output_type": "execute_result"
    }
   ],
   "source": [
    "np.pi"
   ]
  },
  {
   "cell_type": "code",
   "execution_count": 61,
   "metadata": {},
   "outputs": [
    {
     "data": {
      "text/plain": [
       "array([  0,  30,  60,  90, 120, 150, 180, 210, 240, 270, 300, 330, 360])"
      ]
     },
     "execution_count": 61,
     "metadata": {},
     "output_type": "execute_result"
    }
   ],
   "source": [
    "# create an array of angles given in degrees\n",
    "angles_degrees = np.array([0, 30, 60, 90, 120, 150, 180, 210, 240, 270, 300, 330, 360])\n",
    "angles_degrees"
   ]
  },
  {
   "cell_type": "markdown",
   "metadata": {},
   "source": [
    "Now we convert to radians from degrees using the factor $\\frac{\\pi}{}"
   ]
  },
  {
   "cell_type": "code",
   "execution_count": 62,
   "metadata": {},
   "outputs": [
    {
     "data": {
      "text/plain": [
       "array([0.        , 0.52359878, 1.04719755, 1.57079633, 2.0943951 ,\n",
       "       2.61799388, 3.14159265, 3.66519143, 4.1887902 , 4.71238898,\n",
       "       5.23598776, 5.75958653, 6.28318531])"
      ]
     },
     "execution_count": 62,
     "metadata": {},
     "output_type": "execute_result"
    }
   ],
   "source": [
    "# create an array of angles given in radians\n",
    "angles_radians = angles_degrees * (np.pi / 180)\n",
    "angles_radians"
   ]
  },
  {
   "cell_type": "markdown",
   "metadata": {},
   "source": [
    "The data is in the correct format! Next apply the sine function to the array"
   ]
  },
  {
   "cell_type": "code",
   "execution_count": 63,
   "metadata": {},
   "outputs": [
    {
     "data": {
      "text/plain": [
       "array([ 0.00000000e+00,  5.00000000e-01,  8.66025404e-01,  1.00000000e+00,\n",
       "        8.66025404e-01,  5.00000000e-01,  1.22464680e-16, -5.00000000e-01,\n",
       "       -8.66025404e-01, -1.00000000e+00, -8.66025404e-01, -5.00000000e-01,\n",
       "       -2.44929360e-16])"
      ]
     },
     "execution_count": 63,
     "metadata": {},
     "output_type": "execute_result"
    }
   ],
   "source": [
    "y = np.sin(angles_radians)\n",
    "y"
   ]
  },
  {
   "cell_type": "markdown",
   "metadata": {},
   "source": [
    "Finally we can plot the sine function using the \"plot\" function from the plt package. According to the [documents](https://matplotlib.org/stable/api/_as_gen/matplotlib.pyplot.plot.html) for matplotlib, the pyplot \"plot\" function expects a list of x coordinates first, followed by a list of y coordinates. Use \"plt.show()\" to supress console outut."
   ]
  },
  {
   "cell_type": "code",
   "execution_count": 82,
   "metadata": {},
   "outputs": [
    {
     "data": {
      "image/png": "[encoded data removed]",
      "text/plain": [
       "<Figure size 640x480 with 1 Axes>"
      ]
     },
     "metadata": {},
     "output_type": "display_data"
    }
   ],
   "source": [
    "plt.plot(angles_radians, y)\n",
    "plt.show()"
   ]
  },
  {
   "cell_type": "markdown",
   "metadata": {},
   "source": [
    "# 5. Handling multiple arrays of data"
   ]
  },
  {
   "cell_type": "markdown",
   "metadata": {},
   "source": [
    "# 6. Reading experimental data\n",
    "To read experimental data produced by the stm, afm, or keithley DMMs we are going to need two more python packages: panadas and nanoscopy."
   ]
  },
  {
   "cell_type": "markdown",
   "metadata": {},
   "source": [
    "Pandas is a package which adds to numpy arrays, in the same way numpy arrays added to python lists. Panadas makes it easy to read, write, and manipulate tables of data."
   ]
  },
  {
   "cell_type": "code",
   "execution_count": null,
   "metadata": {},
   "outputs": [],
   "source": [
    "import pandas as pd"
   ]
  },
  {
   "cell_type": "markdown",
   "metadata": {},
   "source": [
    "NanoscoPy is a custom package Jesse and I wrote to combine numpy, pyplot, and pandas along with other packages to make the analysis of microscopy data in python easier. This tutorial is actually a part of the custom package! Until now, we have always imported the whole package into memery. This time is different since I only want to use a specific part of our Nanoscopy package. Here I will only import dialog box prompts instead of the entire package."
   ]
  },
  {
   "cell_type": "code",
   "execution_count": 2,
   "metadata": {},
   "outputs": [],
   "source": [
    "import sys\n",
    "sys.path.append('..')\n",
    "from nanoscopy.utilities import dialog_askfilename, dialog_askdirectory "
   ]
  },
  {
   "cell_type": "markdown",
   "metadata": {},
   "source": [
    "We will use the \"dialog_askdirectory\" function to prompt the user for the location of the data directory in the file system as a path string."
   ]
  },
  {
   "cell_type": "code",
   "execution_count": 66,
   "metadata": {},
   "outputs": [
    {
     "data": {
      "text/plain": [
       "'C:/Users/da935101/Datasets/UCF-DataShare/EXPT'"
      ]
     },
     "execution_count": 66,
     "metadata": {},
     "output_type": "execute_result"
    }
   ],
   "source": [
    "path = dialog_askdirectory()\n",
    "path"
   ]
  },
  {
   "cell_type": "markdown",
   "metadata": {},
   "source": [
    "Now that we have the path to the folder where the data is stored, we can use NanoscoPy to read the spectra into a panadas dataframe. Since we are reading STS spectra, we will use the \"read\" function from the spectrum section of the NanoscoPy package."
   ]
  },
  {
   "cell_type": "code",
   "execution_count": 67,
   "metadata": {},
   "outputs": [],
   "source": [
    "from nanoscopy.spectrum import read"
   ]
  },
  {
   "cell_type": "markdown",
   "metadata": {},
   "source": [
    "This read function, which takes a path string, will automatically check the directory and read data of the supported type into a list of panadas DataFrames."
   ]
  },
  {
   "cell_type": "code",
   "execution_count": 71,
   "metadata": {},
   "outputs": [],
   "source": [
    "data = read(path)"
   ]
  },
  {
   "cell_type": "markdown",
   "metadata": {},
   "source": [
    "We can check the number of files read by printing the length of the list."
   ]
  },
  {
   "cell_type": "code",
   "execution_count": 72,
   "metadata": {},
   "outputs": [
    {
     "name": "stdout",
     "output_type": "stream",
     "text": [
      "1462 files\n"
     ]
    }
   ],
   "source": [
    "print(len(data), 'files')"
   ]
  },
  {
   "cell_type": "markdown",
   "metadata": {},
   "source": [
    "Each element of the list is an object which contains the experimental data and any metadata provided by the instrument. Both are stored as Panadas DataFrames. We can check out the column names of the data by printing the \"columns\" property of the first DataFrame in the list. "
   ]
  },
  {
   "cell_type": "code",
   "execution_count": 74,
   "metadata": {},
   "outputs": [
    {
     "data": {
      "text/plain": [
       "Index(['Bias calc (V)', 'Current [AVG] (A)', 'LI Demod 1 X [AVG] (A)',\n",
       "       'Current [00001] (A)', 'LI Demod 1 X [00001] (A)',\n",
       "       'Current [00002] (A)', 'LI Demod 1 X [00002] (A)',\n",
       "       'Current [00003] (A)', 'LI Demod 1 X [00003] (A)',\n",
       "       'Current [AVG] [bwd] (A)', 'LI Demod 1 X [AVG] [bwd] (A)',\n",
       "       'Current [00001] [bwd] (A)', 'LI Demod 1 X [00001] [bwd] (A)',\n",
       "       'Current [00002] [bwd] (A)', 'LI Demod 1 X [00002] [bwd] (A)',\n",
       "       'Current [00003] [bwd] (A)', 'LI Demod 1 X [00003] [bwd] (A)'],\n",
       "      dtype='object')"
      ]
     },
     "execution_count": 74,
     "metadata": {},
     "output_type": "execute_result"
    }
   ],
   "source": [
    "data[0].data.columns"
   ]
  },
  {
   "cell_type": "markdown",
   "metadata": {},
   "source": [
    "We can plot this data using plt. Frist we select the first element of the list and access its dataframe using the \".\" operator. This structure is descided by the package designer."
   ]
  },
  {
   "cell_type": "code",
   "execution_count": 88,
   "metadata": {},
   "outputs": [
    {
     "data": {
      "text/html": [
       "<div>\n",
       "<style scoped>\n",
       "    .dataframe tbody tr th:only-of-type {\n",
       "        vertical-align: middle;\n",
       "    }\n",
       "\n",
       "    .dataframe tbody tr th {\n",
       "        vertical-align: top;\n",
       "    }\n",
       "\n",
       "    .dataframe thead th {\n",
       "        text-align: right;\n",
       "    }\n",
       "</style>\n",
       "<table border=\"1\" class=\"dataframe\">\n",
       "  <thead>\n",
       "    <tr style=\"text-align: right;\">\n",
       "      <th></th>\n",
       "      <th>Bias calc (V)</th>\n",
       "      <th>Current [AVG] (A)</th>\n",
       "      <th>LI Demod 1 X [AVG] (A)</th>\n",
       "      <th>Current [00001] (A)</th>\n",
       "      <th>LI Demod 1 X [00001] (A)</th>\n",
       "      <th>Current [00002] (A)</th>\n",
       "      <th>LI Demod 1 X [00002] (A)</th>\n",
       "      <th>Current [00003] (A)</th>\n",
       "      <th>LI Demod 1 X [00003] (A)</th>\n",
       "      <th>Current [AVG] [bwd] (A)</th>\n",
       "      <th>LI Demod 1 X [AVG] [bwd] (A)</th>\n",
       "      <th>Current [00001] [bwd] (A)</th>\n",
       "      <th>LI Demod 1 X [00001] [bwd] (A)</th>\n",
       "      <th>Current [00002] [bwd] (A)</th>\n",
       "      <th>LI Demod 1 X [00002] [bwd] (A)</th>\n",
       "      <th>Current [00003] [bwd] (A)</th>\n",
       "      <th>LI Demod 1 X [00003] [bwd] (A)</th>\n",
       "    </tr>\n",
       "  </thead>\n",
       "  <tbody>\n",
       "    <tr>\n",
       "      <th>0</th>\n",
       "      <td>-2.80</td>\n",
       "      <td>-2.494528e-10</td>\n",
       "      <td>9.287108e-12</td>\n",
       "      <td>-2.520267e-10</td>\n",
       "      <td>9.338447e-12</td>\n",
       "      <td>-2.478552e-10</td>\n",
       "      <td>9.401798e-12</td>\n",
       "      <td>-2.484765e-10</td>\n",
       "      <td>9.121081e-12</td>\n",
       "      <td>-3.827737e-10</td>\n",
       "      <td>1.311690e-11</td>\n",
       "      <td>-3.845168e-10</td>\n",
       "      <td>1.355985e-11</td>\n",
       "      <td>-3.831797e-10</td>\n",
       "      <td>1.263707e-11</td>\n",
       "      <td>-3.806246e-10</td>\n",
       "      <td>1.315376e-11</td>\n",
       "    </tr>\n",
       "    <tr>\n",
       "      <th>1</th>\n",
       "      <td>-2.75</td>\n",
       "      <td>-2.403331e-10</td>\n",
       "      <td>8.548670e-12</td>\n",
       "      <td>-2.430694e-10</td>\n",
       "      <td>8.953085e-12</td>\n",
       "      <td>-2.383828e-10</td>\n",
       "      <td>8.216892e-12</td>\n",
       "      <td>-2.395470e-10</td>\n",
       "      <td>8.476031e-12</td>\n",
       "      <td>-3.673176e-10</td>\n",
       "      <td>1.213470e-11</td>\n",
       "      <td>-3.687614e-10</td>\n",
       "      <td>1.270089e-11</td>\n",
       "      <td>-3.675444e-10</td>\n",
       "      <td>1.184258e-11</td>\n",
       "      <td>-3.656469e-10</td>\n",
       "      <td>1.186061e-11</td>\n",
       "    </tr>\n",
       "    <tr>\n",
       "      <th>2</th>\n",
       "      <td>-2.70</td>\n",
       "      <td>-2.320136e-10</td>\n",
       "      <td>8.028600e-12</td>\n",
       "      <td>-2.340422e-10</td>\n",
       "      <td>8.147923e-12</td>\n",
       "      <td>-2.301911e-10</td>\n",
       "      <td>7.809060e-12</td>\n",
       "      <td>-2.318076e-10</td>\n",
       "      <td>8.128817e-12</td>\n",
       "      <td>-3.537604e-10</td>\n",
       "      <td>1.149975e-11</td>\n",
       "      <td>-3.546878e-10</td>\n",
       "      <td>1.176876e-11</td>\n",
       "      <td>-3.533299e-10</td>\n",
       "      <td>1.157654e-11</td>\n",
       "      <td>-3.532636e-10</td>\n",
       "      <td>1.115396e-11</td>\n",
       "    </tr>\n",
       "    <tr>\n",
       "      <th>3</th>\n",
       "      <td>-2.65</td>\n",
       "      <td>-2.242857e-10</td>\n",
       "      <td>7.314882e-12</td>\n",
       "      <td>-2.260912e-10</td>\n",
       "      <td>7.355991e-12</td>\n",
       "      <td>-2.227432e-10</td>\n",
       "      <td>7.297203e-12</td>\n",
       "      <td>-2.240227e-10</td>\n",
       "      <td>7.291453e-12</td>\n",
       "      <td>-3.400290e-10</td>\n",
       "      <td>1.088919e-11</td>\n",
       "      <td>-3.417836e-10</td>\n",
       "      <td>1.097989e-11</td>\n",
       "      <td>-3.385921e-10</td>\n",
       "      <td>1.066606e-11</td>\n",
       "      <td>-3.397114e-10</td>\n",
       "      <td>1.102161e-11</td>\n",
       "    </tr>\n",
       "    <tr>\n",
       "      <th>4</th>\n",
       "      <td>-2.60</td>\n",
       "      <td>-2.171363e-10</td>\n",
       "      <td>6.955625e-12</td>\n",
       "      <td>-2.193376e-10</td>\n",
       "      <td>6.771718e-12</td>\n",
       "      <td>-2.157875e-10</td>\n",
       "      <td>6.913350e-12</td>\n",
       "      <td>-2.162837e-10</td>\n",
       "      <td>7.181806e-12</td>\n",
       "      <td>-3.268288e-10</td>\n",
       "      <td>9.870145e-12</td>\n",
       "      <td>-3.298286e-10</td>\n",
       "      <td>9.886080e-12</td>\n",
       "      <td>-3.234091e-10</td>\n",
       "      <td>9.553086e-12</td>\n",
       "      <td>-3.272485e-10</td>\n",
       "      <td>1.017127e-11</td>\n",
       "    </tr>\n",
       "  </tbody>\n",
       "</table>\n",
       "</div>"
      ],
      "text/plain": [
       "   Bias calc (V)  Current [AVG] (A)  LI Demod 1 X [AVG] (A)  \\\n",
       "0          -2.80      -2.494528e-10            9.287108e-12   \n",
       "1          -2.75      -2.403331e-10            8.548670e-12   \n",
       "2          -2.70      -2.320136e-10            8.028600e-12   \n",
       "3          -2.65      -2.242857e-10            7.314882e-12   \n",
       "4          -2.60      -2.171363e-10            6.955625e-12   \n",
       "\n",
       "   Current [00001] (A)  LI Demod 1 X [00001] (A)  Current [00002] (A)  \\\n",
       "0        -2.520267e-10              9.338447e-12        -2.478552e-10   \n",
       "1        -2.430694e-10              8.953085e-12        -2.383828e-10   \n",
       "2        -2.340422e-10              8.147923e-12        -2.301911e-10   \n",
       "3        -2.260912e-10              7.355991e-12        -2.227432e-10   \n",
       "4        -2.193376e-10              6.771718e-12        -2.157875e-10   \n",
       "\n",
       "   LI Demod 1 X [00002] (A)  Current [00003] (A)  LI Demod 1 X [00003] (A)  \\\n",
       "0              9.401798e-12        -2.484765e-10              9.121081e-12   \n",
       "1              8.216892e-12        -2.395470e-10              8.476031e-12   \n",
       "2              7.809060e-12        -2.318076e-10              8.128817e-12   \n",
       "3              7.297203e-12        -2.240227e-10              7.291453e-12   \n",
       "4              6.913350e-12        -2.162837e-10              7.181806e-12   \n",
       "\n",
       "   Current [AVG] [bwd] (A)  LI Demod 1 X [AVG] [bwd] (A)  \\\n",
       "0            -3.827737e-10                  1.311690e-11   \n",
       "1            -3.673176e-10                  1.213470e-11   \n",
       "2            -3.537604e-10                  1.149975e-11   \n",
       "3            -3.400290e-10                  1.088919e-11   \n",
       "4            -3.268288e-10                  9.870145e-12   \n",
       "\n",
       "   Current [00001] [bwd] (A)  LI Demod 1 X [00001] [bwd] (A)  \\\n",
       "0              -3.845168e-10                    1.355985e-11   \n",
       "1              -3.687614e-10                    1.270089e-11   \n",
       "2              -3.546878e-10                    1.176876e-11   \n",
       "3              -3.417836e-10                    1.097989e-11   \n",
       "4              -3.298286e-10                    9.886080e-12   \n",
       "\n",
       "   Current [00002] [bwd] (A)  LI Demod 1 X [00002] [bwd] (A)  \\\n",
       "0              -3.831797e-10                    1.263707e-11   \n",
       "1              -3.675444e-10                    1.184258e-11   \n",
       "2              -3.533299e-10                    1.157654e-11   \n",
       "3              -3.385921e-10                    1.066606e-11   \n",
       "4              -3.234091e-10                    9.553086e-12   \n",
       "\n",
       "   Current [00003] [bwd] (A)  LI Demod 1 X [00003] [bwd] (A)  \n",
       "0              -3.806246e-10                    1.315376e-11  \n",
       "1              -3.656469e-10                    1.186061e-11  \n",
       "2              -3.532636e-10                    1.115396e-11  \n",
       "3              -3.397114e-10                    1.102161e-11  \n",
       "4              -3.272485e-10                    1.017127e-11  "
      ]
     },
     "execution_count": 88,
     "metadata": {},
     "output_type": "execute_result"
    }
   ],
   "source": [
    "df = data[0].data\n",
    "df.head()"
   ]
  },
  {
   "cell_type": "markdown",
   "metadata": {},
   "source": [
    "Now store the column names into variables as strings using the apostrophe symbol \" ' \"."
   ]
  },
  {
   "cell_type": "code",
   "execution_count": 78,
   "metadata": {},
   "outputs": [],
   "source": [
    "bias_label = 'Bias calc (V)'\n",
    "current_label = 'Current [AVG] (A)'"
   ]
  },
  {
   "cell_type": "markdown",
   "metadata": {},
   "source": [
    "Use these labels to select the assocaited columns of data from the DataFrame, df, using the square bracket operators. "
   ]
  },
  {
   "cell_type": "code",
   "execution_count": 79,
   "metadata": {},
   "outputs": [],
   "source": [
    "bias = df[bias_label]\n",
    "current = df[current_label]"
   ]
  },
  {
   "cell_type": "markdown",
   "metadata": {},
   "source": [
    "Finally, plot the STS curve using plt. Use \"plt.show()\" to supress console outut."
   ]
  },
  {
   "cell_type": "code",
   "execution_count": 81,
   "metadata": {},
   "outputs": [
    {
     "data": {
      "image/png": "[encoded data removed]",
      "text/plain": [
       "<Figure size 640x480 with 1 Axes>"
      ]
     },
     "metadata": {},
     "output_type": "display_data"
    }
   ],
   "source": [
    "plt.plot(bias, current)\n",
    "plt.show()"
   ]
  }
 ],
 "metadata": {
  "kernelspec": {
   "display_name": "Python 3.9.12 ('base')",
   "language": "python",
   "name": "python3"
  },
  "language_info": {
   "codemirror_mode": {
    "name": "ipython",
    "version": 3
   },
   "file_extension": ".py",
   "mimetype": "text/x-python",
   "name": "python",
   "nbconvert_exporter": "python",
   "pygments_lexer": "ipython3",
   "version": "3.9.12"
  },
  "orig_nbformat": 4,
  "vscode": {
   "interpreter": {
    "hash": "f7be520a188bf8c017029c21ad87c9903bfb07ee6f95ec7c3571df08e64356bb"
   }
  }
 },
 "nbformat": 4,
 "nbformat_minor": 2
}
