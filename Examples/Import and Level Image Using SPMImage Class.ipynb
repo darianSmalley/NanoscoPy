{
 "cells": [
  {
   "cell_type": "code",
   "execution_count": 1,
   "metadata": {},
   "outputs": [],
   "source": [
    "# The following is needed to import Nanoscopy until it is released as a full package.\n",
    "import sys\n",
    "sys.path.append('..')\n",
    "\n",
    "import nanoscopy as nano\n",
    "\n",
    "# # Load some commonly-used packages\n",
    "# import numpy as np\n",
    "# import matplotlib\n",
    "# import matplotlib.pyplot as plt\n",
    "# import pandas as pd\n",
    "# import math"
   ]
  },
  {
   "cell_type": "markdown",
   "metadata": {},
   "source": [
    "# Introduction\n",
    "The goal of this tutorial is to teach users how to import and perform basic levelling of SPM images using Nanoscopy.\n",
    "\n",
    "The first step to working with an SPM image is to import it. Nanoscopy currently relies on other packages to load the SPM image data from files. When the data has been loaded from a file, Nanoscopy stores the data for future use in a special data container, called \"SPMImage\", which is defined in the Nanoscopy package itself. This data container stores the different data channels contained in the SPM image file, as well as important metadata from the file.\n",
    "\n",
    "# Importing data\n",
    "SPM data importing in Nanoscopy makes use of the \"io\" module in the \"spm\" subpackage. This module contains a convenience function which will attempt to load the data from its file based on the file extension as long as the extension is one that is recognized by the importing algorithm. The function is called \"read\". The read function can take either the path of a file to be loaded or the path to a directory of files to be loaded. Regardless, the read function always returns a list of SPMImage items, with one item per file loaded.\n",
    "\n",
    "Let's load an example data file, which happens to be an STM image produced by Nanonis control hardware (which uses the SXM file extension):"
   ]
  },
  {
   "cell_type": "code",
   "execution_count": 5,
   "metadata": {},
   "outputs": [
    {
     "name": "stdout",
     "output_type": "stream",
     "text": [
      "Processing ../ExampleDataFiles/STM_WTip_WSe2_SL333-Set2-Crystal2_031.sxm...DONE\n"
     ]
    }
   ],
   "source": [
    "# Specify the file to be imported\n",
    "filepath_sxm = '../ExampleDataFiles/STM_WTip_WSe2_SL333-Set2-Crystal2_031.sxm'\n",
    "\n",
    "Image = nano.spm.io.read(filepath_sxm)[0]\n",
    "\n",
    "\n",
    "\n",
    "\n",
    "# def batch_HHCF(path):\n",
    "#     spm_images = nano.spm.io.read(path)\n",
    "#     HHCF_data = []\n",
    "#     for image in spm_images:\n",
    "#         for index in [0,1]:\n",
    "#             levelled_image = nano.spm.process.terrace_level(image.data['Z'][index])\n",
    "#             HHCF_data.append(nano.spm.analysis.calculate_HHCF(levelled_image, image.params['width']))\n",
    "#     return spm_images, HHCF_data"
   ]
  },
  {
   "cell_type": "markdown",
   "metadata": {},
   "source": [
    "In the code above, we included a \"[0]\" after the read function to select the first (and only) item in the list returned by read. Thus, \"Image\" is an SPMImage class object rather than a list of SPMImage objects.\n",
    "\n",
    "# Accessing Data Channels\n",
    "The SPMImage class has several properties. The first property is a dictionary containing the image data channels."
   ]
  },
  {
   "cell_type": "code",
   "execution_count": 10,
   "metadata": {},
   "outputs": [
    {
     "name": "stdout",
     "output_type": "stream",
     "text": [
      "{'bias': 1.0, 'setpoint_value': 3e-11, 'setpoint_unit': 'A', 'width': 1e-07, 'height': 1e-07, 'channels': ['Current', '(A);Z', '(m);LIX', '1', 'omega', '(A)'], 'scan_direction': 'down', 'date_time': datetime.datetime(2021, 8, 23, 18, 56, 56)}\n"
     ]
    }
   ],
   "source": [
    "print(Image.)"
   ]
  },
  {
   "cell_type": "code",
   "execution_count": null,
   "metadata": {},
   "outputs": [],
   "source": []
  }
 ],
 "metadata": {
  "interpreter": {
   "hash": "6cc04d70b8ec403f859993bbeabda9031909b0708d6c18415ca4c5f51407b60e"
  },
  "kernelspec": {
   "display_name": "Python 3.9.7 64-bit ('base': conda)",
   "language": "python",
   "name": "python3"
  },
  "language_info": {
   "codemirror_mode": {
    "name": "ipython",
    "version": 3
   },
   "file_extension": ".py",
   "mimetype": "text/x-python",
   "name": "python",
   "nbconvert_exporter": "python",
   "pygments_lexer": "ipython3",
   "version": "3.9.7"
  },
  "orig_nbformat": 4
 },
 "nbformat": 4,
 "nbformat_minor": 2
}
