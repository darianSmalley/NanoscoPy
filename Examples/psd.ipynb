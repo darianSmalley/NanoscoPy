{
 "cells": [
  {
   "cell_type": "code",
   "execution_count": 1,
   "metadata": {},
   "outputs": [],
   "source": [
    "import glob, os, sys, inspect\n",
    "import pandas as pd\n",
    "import shutil\n",
    "import matplotlib.pyplot as plt\n",
    "import numpy as np\n",
    "import math\n",
    "import cv2\n",
    "import plotly.express as px"
   ]
  },
  {
   "cell_type": "code",
   "execution_count": 7,
   "metadata": {},
   "outputs": [],
   "source": [
    "# Custom modules\n",
    "sys.path.append('../../NanoscoPy/')\n",
    "from nanoscopy import spm\n",
    "from nanoscopy.utilities import dialog_askfilename, dialog_askdirectory "
   ]
  },
  {
   "cell_type": "code",
   "execution_count": 9,
   "metadata": {},
   "outputs": [],
   "source": [
    "path =dialog_askfilename()"
   ]
  },
  {
   "cell_type": "code",
   "execution_count": 16,
   "metadata": {},
   "outputs": [
    {
     "data": {
      "text/html": [
       "<div>\n",
       "<style scoped>\n",
       "    .dataframe tbody tr th:only-of-type {\n",
       "        vertical-align: middle;\n",
       "    }\n",
       "\n",
       "    .dataframe tbody tr th {\n",
       "        vertical-align: top;\n",
       "    }\n",
       "\n",
       "    .dataframe thead th {\n",
       "        text-align: right;\n",
       "    }\n",
       "</style>\n",
       "<table border=\"1\" class=\"dataframe\">\n",
       "  <thead>\n",
       "    <tr style=\"text-align: right;\">\n",
       "      <th></th>\n",
       "      <th>Frequency (Hz)</th>\n",
       "      <th>Bud Box Closed Unscaled (dB)</th>\n",
       "      <th>Bud Box Open Unscaled (dB)</th>\n",
       "      <th>Bud Box Closed (dB)</th>\n",
       "      <th>Bud Box Open (dB)</th>\n",
       "    </tr>\n",
       "  </thead>\n",
       "  <tbody>\n",
       "    <tr>\n",
       "      <th>0</th>\n",
       "      <td>0.00000</td>\n",
       "      <td>20.6103</td>\n",
       "      <td>20.6103</td>\n",
       "      <td>67.6</td>\n",
       "      <td>67.6</td>\n",
       "    </tr>\n",
       "    <tr>\n",
       "      <th>1</th>\n",
       "      <td>2.46607</td>\n",
       "      <td>17.4103</td>\n",
       "      <td>17.4103</td>\n",
       "      <td>64.4</td>\n",
       "      <td>64.4</td>\n",
       "    </tr>\n",
       "    <tr>\n",
       "      <th>2</th>\n",
       "      <td>4.93213</td>\n",
       "      <td>-46.9897</td>\n",
       "      <td>-46.9897</td>\n",
       "      <td>0.0</td>\n",
       "      <td>0.0</td>\n",
       "    </tr>\n",
       "    <tr>\n",
       "      <th>3</th>\n",
       "      <td>7.39820</td>\n",
       "      <td>-46.9897</td>\n",
       "      <td>-46.9897</td>\n",
       "      <td>0.0</td>\n",
       "      <td>0.0</td>\n",
       "    </tr>\n",
       "    <tr>\n",
       "      <th>4</th>\n",
       "      <td>9.86427</td>\n",
       "      <td>-46.9897</td>\n",
       "      <td>-46.9897</td>\n",
       "      <td>0.0</td>\n",
       "      <td>0.0</td>\n",
       "    </tr>\n",
       "  </tbody>\n",
       "</table>\n",
       "</div>"
      ],
      "text/plain": [
       "   Frequency (Hz)  Bud Box Closed Unscaled (dB)  Bud Box Open Unscaled (dB)  \\\n",
       "0         0.00000                       20.6103                     20.6103   \n",
       "1         2.46607                       17.4103                     17.4103   \n",
       "2         4.93213                      -46.9897                    -46.9897   \n",
       "3         7.39820                      -46.9897                    -46.9897   \n",
       "4         9.86427                      -46.9897                    -46.9897   \n",
       "\n",
       "   Bud Box Closed (dB)  Bud Box Open (dB)  \n",
       "0                 67.6               67.6  \n",
       "1                 64.4               64.4  \n",
       "2                  0.0                0.0  \n",
       "3                  0.0                0.0  \n",
       "4                  0.0                0.0  "
      ]
     },
     "execution_count": 16,
     "metadata": {},
     "output_type": "execute_result"
    }
   ],
   "source": [
    "data = pd.read_excel(path)\n",
    "data.head()"
   ]
  },
  {
   "cell_type": "code",
   "execution_count": 22,
   "metadata": {},
   "outputs": [
    {
     "data": {
      "text/plain": [
       "2.46607"
      ]
     },
     "execution_count": 22,
     "metadata": {},
     "output_type": "execute_result"
    }
   ],
   "source": [
    "df = data['Frequency (Hz)'].at[1] - data['Frequency (Hz)'].at[0]\n",
    "df"
   ]
  },
  {
   "cell_type": "code",
   "execution_count": 73,
   "metadata": {},
   "outputs": [
    {
     "data": {
      "text/plain": [
       "0       926.526822\n",
       "1       840.884484\n",
       "2         0.000000\n",
       "3         0.000000\n",
       "4         0.000000\n",
       "           ...    \n",
       "1019      0.000000\n",
       "1020      0.000000\n",
       "1021      0.000000\n",
       "1022      0.000000\n",
       "1023      0.000000\n",
       "Name: Bud Box Open (dB), Length: 1024, dtype: float64"
      ]
     },
     "execution_count": 73,
     "metadata": {},
     "output_type": "execute_result"
    }
   ],
   "source": [
    "psd_closed = (data['Bud Box Closed (dB)']**2)/(2.0*df)\n",
    "psd_open = (data['Bud Box Open (dB)']**2)/(2.0*df)\n",
    "psd_open"
   ]
  },
  {
   "cell_type": "code",
   "execution_count": 94,
   "metadata": {},
   "outputs": [
    {
     "data": {
      "image/png": "[encoded data removed]",
      "text/plain": [
       "<Figure size 640x480 with 1 Axes>"
      ]
     },
     "metadata": {},
     "output_type": "display_data"
    }
   ],
   "source": [
    "i = 2\n",
    "x = data['Frequency (Hz)'][i::]\n",
    "y1 = psd_closed[i::]\n",
    "y2 = psd_open[i::]\n",
    "xmin = 2\n",
    "xmax = 300\n",
    "tick_range = np.arange(xmin, xmax, 50.0)\n",
    "plt.plot(x, y1, label='bud box closed')\n",
    "plt.plot(x, y2, label='bud box open')\n",
    "plt.xlabel('Frequency (Hz)')\n",
    "plt.ylabel('PSD ($A^2 / 2 \\dot df$)')\n",
    "# plt.yscale('log')\n",
    "plt.xlim(xmin,xmax)\n",
    "# plt.ylim(-1,100)\n",
    "plt.xticks(tick_range)\n",
    "plt.grid(color='lightgrey', linestyle='-.', linewidth=0.5)\n",
    "plt.legend()\n",
    "plt.show()"
   ]
  }
 ],
 "metadata": {
  "kernelspec": {
   "display_name": "Python 3.9.12 ('base')",
   "language": "python",
   "name": "python3"
  },
  "language_info": {
   "codemirror_mode": {
    "name": "ipython",
    "version": 3
   },
   "file_extension": ".py",
   "mimetype": "text/x-python",
   "name": "python",
   "nbconvert_exporter": "python",
   "pygments_lexer": "ipython3",
   "version": "3.9.12"
  },
  "orig_nbformat": 4,
  "vscode": {
   "interpreter": {
    "hash": "f7be520a188bf8c017029c21ad87c9903bfb07ee6f95ec7c3571df08e64356bb"
   }
  }
 },
 "nbformat": 4,
 "nbformat_minor": 2
}
