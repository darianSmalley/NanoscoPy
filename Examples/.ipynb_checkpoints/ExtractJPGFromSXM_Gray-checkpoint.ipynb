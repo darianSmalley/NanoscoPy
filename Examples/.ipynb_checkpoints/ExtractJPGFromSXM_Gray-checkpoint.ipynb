{
 "cells": [
  {
   "cell_type": "code",
   "execution_count": 27,
   "metadata": {},
   "outputs": [],
   "source": [
    "import pySPM\n",
    "import numpy as np\n",
    "import matplotlib.pyplot as plt\n",
    "import matplotlib as mpl\n",
    "\n",
    "import os\n",
    "from IPython import display"
   ]
  },
  {
   "cell_type": "code",
   "execution_count": 28,
   "metadata": {},
   "outputs": [],
   "source": [
    "#root_dir = 'C:\\\\Users\\\\Jesse\\\\Desktop\\\\STM AI\\\\Curated Data\\\\Sorted Images\\\\'\n",
    "#sxm_path = 'Au-111_Images\\\\'\n",
    "##source_dir = os.path.join(root_dir, sxm_path, 'atomic-lattice')\n",
    "#jpeg_path = 'Au-111_Images_jpeg\\\\'\n",
    "##target_dir = os.path.join(root_dir, jpeg_path,source_folder_path)\n",
    "##notherringboen_source_dir = os.path.join(root_dir, 'au-111_notherringbone_sxm\\\\')\n",
    "##unknown_source_dir = os.path.join(root_dir, 'au-111_unsure_sxm')\n",
    "\n",
    "root_dir = 'H:\\Research\\AI_STM\\sxm-storage'\n",
    "sxm_path = 'sxm files\\sorted\\Au-111'\n",
    "jpeg_path = 'Au-111_Images_jpeg_gray'"
   ]
  },
  {
   "cell_type": "code",
   "execution_count": 29,
   "metadata": {},
   "outputs": [],
   "source": [
    "def extract_as_jpg(src_dir, dst_dir, label):\n",
    "    for index, file in enumerate(os.listdir(src_dir)):\n",
    "        try:\n",
    "            if file.endswith(\".sxm\"):\n",
    "                # Read sxm STM data\n",
    "                src_path = os.path.join(src_dir,file)\n",
    "                data = pySPM.SXM(src_path)\n",
    "\n",
    "                try:\n",
    "                    image = data.get_channel('Z').correct_plane(inline=False).pixels\n",
    "                    matrix_image = np.asmatrix(image)\n",
    "                    dst_path = os.path.join(dst_dir,'{}.{}.jpg'.format(label,index))\n",
    "                    plt.imsave(dst_path, matrix_image,cmap='gray')\n",
    "\n",
    "                except Exception as e:\n",
    "                    print('Error detected:', e)\n",
    "\n",
    "        except Exception as e:\n",
    "            raise e\n",
    "            print(\"Error! No files found here\")\n",
    "\n",
    "    print('All files in folder have been saved as jpgs.')"
   ]
  },
  {
   "cell_type": "code",
   "execution_count": 30,
   "metadata": {},
   "outputs": [
    {
     "name": "stdout",
     "output_type": "stream",
     "text": [
      "All files in folder have been saved as jpgs.\n"
     ]
    }
   ],
   "source": [
    "source_dir = os.path.join(root_dir, sxm_path, 'artifacts')\n",
    "target_dir = os.path.join(root_dir, jpeg_path,'artifacts')\n",
    "extract_as_jpg(source_dir, target_dir, 'artifacts')"
   ]
  },
  {
   "cell_type": "code",
   "execution_count": 31,
   "metadata": {},
   "outputs": [
    {
     "name": "stdout",
     "output_type": "stream",
     "text": [
      "All files in folder have been saved as jpgs.\n"
     ]
    }
   ],
   "source": [
    "source_dir = os.path.join(root_dir, sxm_path, 'atomic-lattice-clear')\n",
    "target_dir = os.path.join(root_dir, jpeg_path,'atomic-lattice-clear')\n",
    "extract_as_jpg(source_dir, target_dir, 'atomic_lattice_clear')"
   ]
  },
  {
   "cell_type": "code",
   "execution_count": 39,
   "metadata": {},
   "outputs": [
    {
     "name": "stdout",
     "output_type": "stream",
     "text": [
      "All files in folder have been saved as jpgs.\n"
     ]
    }
   ],
   "source": [
    "source_dir = os.path.join(root_dir, sxm_path, 'atomic-lattice-unclear')\n",
    "target_dir = os.path.join(root_dir, jpeg_path,'atomic-lattice-unclear')\n",
    "extract_as_jpg(source_dir, target_dir, 'atomic_lattice_unclear')"
   ]
  },
  {
   "cell_type": "code",
   "execution_count": 33,
   "metadata": {},
   "outputs": [
    {
     "name": "stdout",
     "output_type": "stream",
     "text": [
      "All files in folder have been saved as jpgs.\n"
     ]
    }
   ],
   "source": [
    "source_dir = os.path.join(root_dir, sxm_path, 'herringbone-clear')\n",
    "target_dir = os.path.join(root_dir, jpeg_path,'herringbone-clear')\n",
    "extract_as_jpg(source_dir, target_dir, 'herringbone_clear')"
   ]
  },
  {
   "cell_type": "code",
   "execution_count": 34,
   "metadata": {},
   "outputs": [
    {
     "name": "stdout",
     "output_type": "stream",
     "text": [
      "All files in folder have been saved as jpgs.\n"
     ]
    }
   ],
   "source": [
    "source_dir = os.path.join(root_dir, sxm_path, 'herringbone-unclear')\n",
    "target_dir = os.path.join(root_dir, jpeg_path,'herringbone-unclear')\n",
    "extract_as_jpg(source_dir, target_dir, 'herringbone_unclear')"
   ]
  },
  {
   "cell_type": "code",
   "execution_count": 35,
   "metadata": {},
   "outputs": [
    {
     "name": "stdout",
     "output_type": "stream",
     "text": [
      "All files in folder have been saved as jpgs.\n"
     ]
    }
   ],
   "source": [
    "source_dir = os.path.join(root_dir, sxm_path, 'other')\n",
    "target_dir = os.path.join(root_dir, jpeg_path,'other')\n",
    "extract_as_jpg(source_dir, target_dir, 'other')"
   ]
  },
  {
   "cell_type": "code",
   "execution_count": 36,
   "metadata": {},
   "outputs": [
    {
     "name": "stdout",
     "output_type": "stream",
     "text": [
      "All files in folder have been saved as jpgs.\n"
     ]
    }
   ],
   "source": [
    "source_dir = os.path.join(root_dir, sxm_path, 'steps-clear')\n",
    "target_dir = os.path.join(root_dir, jpeg_path,'steps-clear')\n",
    "extract_as_jpg(source_dir, target_dir, 'steps_clear')"
   ]
  },
  {
   "cell_type": "code",
   "execution_count": 37,
   "metadata": {},
   "outputs": [
    {
     "name": "stdout",
     "output_type": "stream",
     "text": [
      "All files in folder have been saved as jpgs.\n"
     ]
    }
   ],
   "source": [
    "source_dir = os.path.join(root_dir, sxm_path, 'steps-unclear')\n",
    "target_dir = os.path.join(root_dir, jpeg_path,'steps-unclear')\n",
    "extract_as_jpg(source_dir, target_dir, 'steps_unclear')"
   ]
  },
  {
   "cell_type": "code",
   "execution_count": 38,
   "metadata": {},
   "outputs": [
    {
     "name": "stdout",
     "output_type": "stream",
     "text": [
      "All files in folder have been saved as jpgs.\n"
     ]
    }
   ],
   "source": [
    "source_dir = os.path.join(root_dir, sxm_path, 'unsure')\n",
    "target_dir = os.path.join(root_dir, jpeg_path,'unsure')\n",
    "extract_as_jpg(source_dir, target_dir, 'unsure')"
   ]
  },
  {
   "cell_type": "code",
   "execution_count": null,
   "metadata": {},
   "outputs": [],
   "source": []
  }
 ],
 "metadata": {
  "kernelspec": {
   "display_name": "Python 3",
   "language": "python",
   "name": "python3"
  },
  "language_info": {
   "codemirror_mode": {
    "name": "ipython",
    "version": 3
   },
   "file_extension": ".py",
   "mimetype": "text/x-python",
   "name": "python",
   "nbconvert_exporter": "python",
   "pygments_lexer": "ipython3",
   "version": "3.8.5"
  }
 },
 "nbformat": 4,
 "nbformat_minor": 4
}
