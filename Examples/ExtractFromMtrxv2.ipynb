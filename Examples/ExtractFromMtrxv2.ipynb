{
 "cells": [
  {
   "cell_type": "markdown",
   "id": "b7b77a66",
   "metadata": {},
   "source": [
    "# Extracting and processing STM Image Data from Omicron's propritary .Z_MTRX format \n",
    "In order to extract the images, first import the necessary packages. We will be using NanoscoPy to read the STM data and matplotlib to show the data."
   ]
  },
  {
   "cell_type": "code",
   "execution_count": null,
   "id": "bd91c08a",
   "metadata": {},
   "outputs": [],
   "source": [
    "%load_ext autoreload\n",
    "%autoreload 2"
   ]
  },
  {
   "cell_type": "code",
   "execution_count": null,
   "metadata": {},
   "outputs": [],
   "source": [
    "import matplotlib.pyplot as plt\n",
    "from pathlib import Path"
   ]
  },
  {
   "cell_type": "code",
   "execution_count": null,
   "id": "8bee48a7",
   "metadata": {},
   "outputs": [],
   "source": [
    "# Custom modules\n",
    "import sys\n",
    "sys.path.append('../../NanoscoPy/')\n",
    "from nanoscopy import spm\n",
    "from nanoscopy.utilities import dialog_askdirectory"
   ]
  },
  {
   "cell_type": "markdown",
   "id": "a2326579",
   "metadata": {},
   "source": [
    "### Get Root Folder Path\n",
    "Prompt the user for the directory which contains the .Z_mtrx files and the result file chain."
   ]
  },
  {
   "cell_type": "code",
   "execution_count": null,
   "metadata": {},
   "outputs": [],
   "source": [
    "folder_path = dialog_askdirectory()"
   ]
  },
  {
   "cell_type": "markdown",
   "id": "a2326579",
   "metadata": {},
   "source": [
    "### Read all STM files in the folder"
   ]
  },
  {
   "cell_type": "code",
   "execution_count": null,
   "id": "85678830",
   "metadata": {},
   "outputs": [],
   "source": [
    "scans = spm.read(folder_path, metadata_source='filepath')"
   ]
  },
  {
   "attachments": {},
   "cell_type": "markdown",
   "id": "f5d27532",
   "metadata": {},
   "source": [
    "### Check metadata summary"
   ]
  },
  {
   "cell_type": "code",
   "execution_count": null,
   "id": "77bd84f0",
   "metadata": {},
   "outputs": [],
   "source": [
    "scans[0].summary()"
   ]
  },
  {
   "attachments": {},
   "cell_type": "markdown",
   "id": "a95d71bd",
   "metadata": {},
   "source": [
    "### Collect forward trace images"
   ]
  },
  {
   "cell_type": "code",
   "execution_count": null,
   "id": "ca0f2062",
   "metadata": {},
   "outputs": [],
   "source": [
    "fwd_scans = [spm_data.fwd() for spm_data in scans]"
   ]
  },
  {
   "cell_type": "markdown",
   "id": "468bf074",
   "metadata": {},
   "source": [
    "### Correct the forward sweep data\n",
    "Each image is globally flattened via plane correction, followed by 2nd order polynomial background subtraction, line-by-line offset flattening, 3x3 gaussian smoothing, and CLAHE."
   ]
  },
  {
   "cell_type": "code",
   "execution_count": null,
   "id": "ca4139be",
   "metadata": {},
   "outputs": [],
   "source": [
    "corrected_scans = spm.correct(fwd_scans, poly=True, equalize=True)"
   ]
  },
  {
   "cell_type": "markdown",
   "id": "580d9dbf",
   "metadata": {},
   "source": [
    "### Show a comparison plot between some of the raw and processed images"
   ]
  },
  {
   "cell_type": "code",
   "execution_count": null,
   "id": "d85af557",
   "metadata": {
    "tags": []
   },
   "outputs": [],
   "source": [
    "n = len(corrected_scans[:5])\n",
    "fig, axs = plt.subplots(n, 2)\n",
    "fig.set_figheight(15)\n",
    "fig.set_figwidth(7)\n",
    "\n",
    "for i in range(n):\n",
    "    raw = scans[i]\n",
    "    processed = corrected_scans[i]\n",
    "    sample_name = f'{raw.sample_id()}'\n",
    "    # sample_name = 'Original'\n",
    "\n",
    "    axs[i, 0].imshow(raw.fwd() , origin = 'lower')\n",
    "    axs[i, 0].set_title(sample_name)\n",
    "    axs[i, 1].imshow(processed , origin = 'lower')\n",
    "    axs[i, 1].set_title(f'post-processed')\n",
    "\n",
    "# Hide x labels and tick labels for top plots and y ticks for right plots.\n",
    "for ax in axs.flat:\n",
    "    ax.xaxis.set_visible(False)\n",
    "    ax.yaxis.set_visible(False)"
   ]
  },
  {
   "cell_type": "markdown",
   "id": "dadbbd4e",
   "metadata": {},
   "source": [
    "### Output directories "
   ]
  },
  {
   "cell_type": "code",
   "execution_count": null,
   "id": "b01b6dd6",
   "metadata": {},
   "outputs": [],
   "source": [
    "dst_paths = [f'{Path(scan.path()).parent}\\\\{scan.summary()}.jpg' for scan in scans]\n",
    "dst_paths"
   ]
  },
  {
   "cell_type": "markdown",
   "id": "968254cd",
   "metadata": {},
   "source": [
    "### Export the data as jpg"
   ]
  },
  {
   "cell_type": "code",
   "execution_count": null,
   "id": "78dc35f2",
   "metadata": {},
   "outputs": [],
   "source": [
    "spm.io.export_images(corrected_scans, dst_paths)"
   ]
  },
  {
   "cell_type": "markdown",
   "id": "6aed34a0",
   "metadata": {},
   "source": [
    "### Export metadata as csv "
   ]
  },
  {
   "cell_type": "code",
   "execution_count": null,
   "id": "98cc0074",
   "metadata": {},
   "outputs": [],
   "source": [
    "spm.io.export_metadata(scans, folder_path)"
   ]
  }
 ],
 "metadata": {
  "kernelspec": {
   "display_name": "base",
   "language": "python",
   "name": "python3"
  },
  "language_info": {
   "codemirror_mode": {
    "name": "ipython",
    "version": 3
   },
   "file_extension": ".py",
   "mimetype": "text/x-python",
   "name": "python",
   "nbconvert_exporter": "python",
   "pygments_lexer": "ipython3",
   "version": "3.9.16"
  },
  "vscode": {
   "interpreter": {
    "hash": "33d38bf91bedfe366fa28697a6991fe51ed1af82926c200eab4065e06eb0a112"
   }
  }
 },
 "nbformat": 4,
 "nbformat_minor": 5
}
