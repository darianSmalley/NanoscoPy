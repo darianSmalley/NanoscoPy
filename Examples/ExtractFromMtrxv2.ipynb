{
 "cells": [
  {
   "cell_type": "markdown",
   "id": "b7b77a66",
   "metadata": {},
   "source": [
    "# Extracting and processing STM Image Data from Omicron's propritary .Z_MTRX format \n",
    "In order to extract the images, first import the necessary packages. We will be using NanoscoPy to read the STM data and matplotlib to show the data."
   ]
  },
  {
   "cell_type": "code",
   "execution_count": 4,
   "metadata": {},
   "outputs": [],
   "source": [
    "import sys\n",
    "import matplotlib.pyplot as plt\n",
    "from pathlib import Path"
   ]
  },
  {
   "cell_type": "code",
   "execution_count": 3,
   "id": "8bee48a7",
   "metadata": {},
   "outputs": [],
   "source": [
    "# Custom modules\n",
    "sys.path.append('../../NanoscoPy/')\n",
    "from nanoscopy import spm\n",
    "from nanoscopy.utilities import dialog_askdirectory "
   ]
  },
  {
   "cell_type": "markdown",
   "id": "a2326579",
   "metadata": {},
   "source": [
    "### Get Root Folder Path\n",
    "Prompt the user for the directory which contains the .Z_mtrx files and the result file chain."
   ]
  },
  {
   "cell_type": "code",
   "execution_count": 5,
   "metadata": {},
   "outputs": [],
   "source": [
    "folder_path = dialog_askdirectory()"
   ]
  },
  {
   "cell_type": "markdown",
   "id": "a2326579",
   "metadata": {},
   "source": [
    "### Get Root Folder Path\n",
    "Prompt the user for the directory which contains the .Z_mtrx files and the result file chain."
   ]
  },
  {
   "cell_type": "code",
   "execution_count": 4,
   "metadata": {},
   "outputs": [],
   "source": [
    "sample_batch_name = Path(folder_path).parts[-1]"
   ]
  },
  {
   "cell_type": "markdown",
   "id": "a2326579",
   "metadata": {},
   "source": [
    "### Read all STM files in the folder"
   ]
  },
  {
   "cell_type": "code",
   "execution_count": 6,
   "id": "85678830",
   "metadata": {},
   "outputs": [
    {
     "name": "stdout",
     "output_type": "stream",
     "text": [
      "Reading 4 sxm files...DONE\n",
      "Processing 1 sxm files...Found the following mtrx files in path:\n",
      "Processing WSe2--1_1...DONE\n"
     ]
    }
   ],
   "source": [
    "scans = spm.read(folder_path)"
   ]
  },
  {
   "cell_type": "code",
   "execution_count": 7,
   "id": "3f55cac3",
   "metadata": {},
   "outputs": [
    {
     "data": {
      "text/html": [
       "<div>\n",
       "<style scoped>\n",
       "    .dataframe tbody tr th:only-of-type {\n",
       "        vertical-align: middle;\n",
       "    }\n",
       "\n",
       "    .dataframe tbody tr th {\n",
       "        vertical-align: top;\n",
       "    }\n",
       "\n",
       "    .dataframe thead th {\n",
       "        text-align: right;\n",
       "    }\n",
       "</style>\n",
       "<table border=\"1\" class=\"dataframe\">\n",
       "  <thead>\n",
       "    <tr style=\"text-align: right;\">\n",
       "      <th></th>\n",
       "      <th>channels</th>\n",
       "      <th>paths</th>\n",
       "      <th>setpoints</th>\n",
       "      <th>voltages</th>\n",
       "      <th>widths</th>\n",
       "      <th>heights</th>\n",
       "      <th>datetimes</th>\n",
       "      <th>directions</th>\n",
       "      <th>traces</th>\n",
       "      <th>images</th>\n",
       "    </tr>\n",
       "  </thead>\n",
       "  <tbody>\n",
       "    <tr>\n",
       "      <th>0</th>\n",
       "      <td>Z</td>\n",
       "      <td>G:/Research/AI_STM/NanoscoPy/ExampleDataFiles\\...</td>\n",
       "      <td>1.000000e-09</td>\n",
       "      <td>1.000000e-09</td>\n",
       "      <td>1.000000e-09</td>\n",
       "      <td>1.000000e-09</td>\n",
       "      <td>2021-02-25T11:36:19</td>\n",
       "      <td>down</td>\n",
       "      <td>forward</td>\n",
       "      <td>[[-1.204225128503822e-07, -1.204216886208087e-...</td>\n",
       "    </tr>\n",
       "    <tr>\n",
       "      <th>1</th>\n",
       "      <td>Z</td>\n",
       "      <td>G:/Research/AI_STM/NanoscoPy/ExampleDataFiles\\...</td>\n",
       "      <td>1.000000e-09</td>\n",
       "      <td>1.000000e-09</td>\n",
       "      <td>1.000000e-09</td>\n",
       "      <td>1.000000e-09</td>\n",
       "      <td>2021-02-25T11:36:19</td>\n",
       "      <td>down</td>\n",
       "      <td>backward</td>\n",
       "      <td>[[-1.204103625696007e-07, -1.2040902674925746e...</td>\n",
       "    </tr>\n",
       "    <tr>\n",
       "      <th>0</th>\n",
       "      <td>Current</td>\n",
       "      <td>G:/Research/AI_STM/NanoscoPy/ExampleDataFiles\\...</td>\n",
       "      <td>1.000000e-09</td>\n",
       "      <td>1.000000e-09</td>\n",
       "      <td>1.000000e-09</td>\n",
       "      <td>1.000000e-09</td>\n",
       "      <td>2021-02-25T11:36:19</td>\n",
       "      <td>down</td>\n",
       "      <td>forward</td>\n",
       "      <td>[[1.0036380615474627e-09, 9.974532311218809e-1...</td>\n",
       "    </tr>\n",
       "    <tr>\n",
       "      <th>1</th>\n",
       "      <td>Current</td>\n",
       "      <td>G:/Research/AI_STM/NanoscoPy/ExampleDataFiles\\...</td>\n",
       "      <td>1.000000e-09</td>\n",
       "      <td>1.000000e-09</td>\n",
       "      <td>1.000000e-09</td>\n",
       "      <td>1.000000e-09</td>\n",
       "      <td>2021-02-25T11:36:19</td>\n",
       "      <td>down</td>\n",
       "      <td>backward</td>\n",
       "      <td>[[1.0091439905934863e-09, 1.007642969064193e-0...</td>\n",
       "    </tr>\n",
       "  </tbody>\n",
       "</table>\n",
       "</div>"
      ],
      "text/plain": [
       "  channels                                              paths     setpoints  \\\n",
       "0        Z  G:/Research/AI_STM/NanoscoPy/ExampleDataFiles\\...  1.000000e-09   \n",
       "1        Z  G:/Research/AI_STM/NanoscoPy/ExampleDataFiles\\...  1.000000e-09   \n",
       "0  Current  G:/Research/AI_STM/NanoscoPy/ExampleDataFiles\\...  1.000000e-09   \n",
       "1  Current  G:/Research/AI_STM/NanoscoPy/ExampleDataFiles\\...  1.000000e-09   \n",
       "\n",
       "       voltages        widths       heights            datetimes directions  \\\n",
       "0  1.000000e-09  1.000000e-09  1.000000e-09  2021-02-25T11:36:19       down   \n",
       "1  1.000000e-09  1.000000e-09  1.000000e-09  2021-02-25T11:36:19       down   \n",
       "0  1.000000e-09  1.000000e-09  1.000000e-09  2021-02-25T11:36:19       down   \n",
       "1  1.000000e-09  1.000000e-09  1.000000e-09  2021-02-25T11:36:19       down   \n",
       "\n",
       "     traces                                             images  \n",
       "0   forward  [[-1.204225128503822e-07, -1.204216886208087e-...  \n",
       "1  backward  [[-1.204103625696007e-07, -1.2040902674925746e...  \n",
       "0   forward  [[1.0036380615474627e-09, 9.974532311218809e-1...  \n",
       "1  backward  [[1.0091439905934863e-09, 1.007642969064193e-0...  "
      ]
     },
     "execution_count": 7,
     "metadata": {},
     "output_type": "execute_result"
    }
   ],
   "source": [
    "scans[0].as_dataframe()"
   ]
  },
  {
   "cell_type": "markdown",
   "id": "468bf074",
   "metadata": {},
   "source": [
    "### Correct the forward sweep data\n",
    "Each image is globally flattened via plane correction, followed by 2nd order polynomial background subtraction, line-by-line offset flattening, 3x3 gaussian smoothing, and CLAHE."
   ]
  },
  {
   "cell_type": "code",
   "execution_count": null,
   "id": "ca4139be",
   "metadata": {},
   "outputs": [],
   "source": [
    "corrected_scans = spm.correct([mtrx_file.data['Z'][0] for mtrx_file in scans])"
   ]
  },
  {
   "cell_type": "markdown",
   "id": "580d9dbf",
   "metadata": {},
   "source": [
    "### Show a comparison plot between some of the raw and processed images"
   ]
  },
  {
   "cell_type": "code",
   "execution_count": null,
   "id": "d85af557",
   "metadata": {
    "tags": []
   },
   "outputs": [],
   "source": [
    "n = 6\n",
    "fig, axs = plt.subplots(n, 2)\n",
    "fig.suptitle(f'Sample Date: {sample_batch_name}')\n",
    "fig.set_figheight(15)\n",
    "fig.set_figwidth(7)\n",
    "for i in range(n):\n",
    "    raw = scans[i]\n",
    "    processed = corrected_scans[i]\n",
    "    sample_name = f'{raw.filename[-16:]}'\n",
    "\n",
    "    axs[i, 0].imshow(raw.data['Z'][0] , origin = 'lower')\n",
    "    axs[i, 0].set_title(sample_name)\n",
    "    axs[i, 1].imshow(processed , origin = 'lower')\n",
    "    axs[i, 1].set_title(f'post-processed {sample_name}')\n",
    "\n",
    "# Hide x labels and tick labels for top plots and y ticks for right plots.\n",
    "for ax in axs.flat:\n",
    "    ax.xaxis.set_visible(False)\n",
    "    ax.yaxis.set_visible(False)"
   ]
  },
  {
   "cell_type": "markdown",
   "id": "dadbbd4e",
   "metadata": {},
   "source": [
    "### Output directories "
   ]
  },
  {
   "cell_type": "code",
   "execution_count": null,
   "id": "b01b6dd6",
   "metadata": {},
   "outputs": [],
   "source": [
    "dst_paths = [f'{Path(scan.path).parent}\\\\{scan.summary()}.jpg' for scan in scans]\n",
    "dst_paths[:4]"
   ]
  },
  {
   "cell_type": "markdown",
   "id": "968254cd",
   "metadata": {},
   "source": [
    "### Export the data as jpg"
   ]
  },
  {
   "cell_type": "code",
   "execution_count": null,
   "id": "78dc35f2",
   "metadata": {},
   "outputs": [],
   "source": [
    "spm.io.export_spm(corrected_scans, dst_paths)"
   ]
  }
 ],
 "metadata": {
  "kernelspec": {
   "display_name": "Python 3",
   "language": "python",
   "name": "python3"
  },
  "language_info": {
   "codemirror_mode": {
    "name": "ipython",
    "version": 3
   },
   "file_extension": ".py",
   "mimetype": "text/x-python",
   "name": "python",
   "nbconvert_exporter": "python",
   "pygments_lexer": "ipython3",
   "version": "3.9.7"
  }
 },
 "nbformat": 4,
 "nbformat_minor": 5
}
