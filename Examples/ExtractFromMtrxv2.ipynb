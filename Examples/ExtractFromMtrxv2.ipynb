{
 "cells": [
  {
   "cell_type": "markdown",
   "id": "b7b77a66",
   "metadata": {},
   "source": [
    "# Extracting and processing STM Image Data from Omicron's propritary .Z_MTRX format \n",
    "In order to extract the images, first import the necessary packages. We will be using NanoscoPy to read the STM data and matplotlib to show the data."
   ]
  },
  {
   "cell_type": "code",
   "execution_count": 1,
   "metadata": {},
   "outputs": [],
   "source": [
    "import sys\n",
    "import matplotlib.pyplot as plt\n",
    "from pathlib import Path"
   ]
  },
  {
   "cell_type": "code",
   "execution_count": 2,
   "id": "8bee48a7",
   "metadata": {},
   "outputs": [],
   "source": [
    "# Custom modules\n",
    "sys.path.append('../../NanoscoPy/')\n",
    "from nanoscopy import spm\n",
    "from nanoscopy.utilities import dialog_askdirectory "
   ]
  },
  {
   "cell_type": "markdown",
   "id": "a2326579",
   "metadata": {},
   "source": [
    "### Get Root Folder Path\n",
    "Prompt the user for the directory which contains the .Z_mtrx files and the result file chain."
   ]
  },
  {
   "cell_type": "code",
   "execution_count": 3,
   "metadata": {},
   "outputs": [],
   "source": [
    "folder_path = dialog_askdirectory()"
   ]
  },
  {
   "cell_type": "markdown",
   "id": "a2326579",
   "metadata": {},
   "source": [
    "### Read all STM files in the folder"
   ]
  },
  {
   "cell_type": "code",
   "execution_count": 4,
   "id": "85678830",
   "metadata": {},
   "outputs": [
    {
     "name": "stdout",
     "output_type": "stream",
     "text": [
      "Reading 4 sxm files...DONE\n",
      "Reading 1 mtrx files...DONE\n"
     ]
    }
   ],
   "source": [
    "scans = spm.read(folder_path)"
   ]
  },
  {
   "cell_type": "markdown",
   "id": "536112d3",
   "metadata": {},
   "source": [
    "### Inspect some of the data"
   ]
  },
  {
   "cell_type": "code",
   "execution_count": 5,
   "id": "3f55cac3",
   "metadata": {},
   "outputs": [
    {
     "data": {
      "text/html": [
       "<div>\n",
       "<style scoped>\n",
       "    .dataframe tbody tr th:only-of-type {\n",
       "        vertical-align: middle;\n",
       "    }\n",
       "\n",
       "    .dataframe tbody tr th {\n",
       "        vertical-align: top;\n",
       "    }\n",
       "\n",
       "    .dataframe thead th {\n",
       "        text-align: right;\n",
       "    }\n",
       "</style>\n",
       "<table border=\"1\" class=\"dataframe\">\n",
       "  <thead>\n",
       "    <tr style=\"text-align: right;\">\n",
       "      <th></th>\n",
       "      <th>sample_id</th>\n",
       "      <th>probe</th>\n",
       "      <th>channel</th>\n",
       "      <th>direction</th>\n",
       "      <th>trace</th>\n",
       "      <th>setpoint (A)</th>\n",
       "      <th>voltage (V)</th>\n",
       "      <th>width (m)</th>\n",
       "      <th>height (m)</th>\n",
       "      <th>scan_time (s)</th>\n",
       "      <th>datetime</th>\n",
       "      <th>path</th>\n",
       "      <th>image</th>\n",
       "    </tr>\n",
       "  </thead>\n",
       "  <tbody>\n",
       "    <tr>\n",
       "      <th>0</th>\n",
       "      <td>STM_Au-111_Flat</td>\n",
       "      <td>Au-111</td>\n",
       "      <td>Z</td>\n",
       "      <td>down</td>\n",
       "      <td>forward</td>\n",
       "      <td>1.000000e-09</td>\n",
       "      <td>1.0</td>\n",
       "      <td>4.000000e-08</td>\n",
       "      <td>4.000000e-08</td>\n",
       "      <td>8.533E-1</td>\n",
       "      <td>2021-02-25T11:36:19</td>\n",
       "      <td>G:/Research/AI_STM/NanoscoPy/ExampleDataFiles\\...</td>\n",
       "      <td>[[-1.204225128503822e-07, -1.204216886208087e-...</td>\n",
       "    </tr>\n",
       "    <tr>\n",
       "      <th>1</th>\n",
       "      <td>STM_Au-111_Flat</td>\n",
       "      <td>Au-111</td>\n",
       "      <td>Z</td>\n",
       "      <td>down</td>\n",
       "      <td>backward</td>\n",
       "      <td>1.000000e-09</td>\n",
       "      <td>1.0</td>\n",
       "      <td>4.000000e-08</td>\n",
       "      <td>4.000000e-08</td>\n",
       "      <td>8.533E-1</td>\n",
       "      <td>2021-02-25T11:36:19</td>\n",
       "      <td>G:/Research/AI_STM/NanoscoPy/ExampleDataFiles\\...</td>\n",
       "      <td>[[-1.204103625696007e-07, -1.2040902674925746e...</td>\n",
       "    </tr>\n",
       "    <tr>\n",
       "      <th>2</th>\n",
       "      <td>STM_Au-111_Flat</td>\n",
       "      <td>Au-111</td>\n",
       "      <td>Current</td>\n",
       "      <td>down</td>\n",
       "      <td>forward</td>\n",
       "      <td>1.000000e-09</td>\n",
       "      <td>1.0</td>\n",
       "      <td>4.000000e-08</td>\n",
       "      <td>4.000000e-08</td>\n",
       "      <td>8.533E-1</td>\n",
       "      <td>2021-02-25T11:36:19</td>\n",
       "      <td>G:/Research/AI_STM/NanoscoPy/ExampleDataFiles\\...</td>\n",
       "      <td>[[1.0036380615474627e-09, 9.974532311218809e-1...</td>\n",
       "    </tr>\n",
       "    <tr>\n",
       "      <th>3</th>\n",
       "      <td>STM_Au-111_Flat</td>\n",
       "      <td>Au-111</td>\n",
       "      <td>Current</td>\n",
       "      <td>down</td>\n",
       "      <td>backward</td>\n",
       "      <td>1.000000e-09</td>\n",
       "      <td>1.0</td>\n",
       "      <td>4.000000e-08</td>\n",
       "      <td>4.000000e-08</td>\n",
       "      <td>8.533E-1</td>\n",
       "      <td>2021-02-25T11:36:19</td>\n",
       "      <td>G:/Research/AI_STM/NanoscoPy/ExampleDataFiles\\...</td>\n",
       "      <td>[[1.0091439905934863e-09, 1.007642969064193e-0...</td>\n",
       "    </tr>\n",
       "  </tbody>\n",
       "</table>\n",
       "</div>"
      ],
      "text/plain": [
       "         sample_id   probe  channel direction     trace  setpoint (A)  \\\n",
       "0  STM_Au-111_Flat  Au-111        Z      down   forward  1.000000e-09   \n",
       "1  STM_Au-111_Flat  Au-111        Z      down  backward  1.000000e-09   \n",
       "2  STM_Au-111_Flat  Au-111  Current      down   forward  1.000000e-09   \n",
       "3  STM_Au-111_Flat  Au-111  Current      down  backward  1.000000e-09   \n",
       "\n",
       "   voltage (V)     width (m)    height (m) scan_time (s)             datetime  \\\n",
       "0          1.0  4.000000e-08  4.000000e-08      8.533E-1  2021-02-25T11:36:19   \n",
       "1          1.0  4.000000e-08  4.000000e-08      8.533E-1  2021-02-25T11:36:19   \n",
       "2          1.0  4.000000e-08  4.000000e-08      8.533E-1  2021-02-25T11:36:19   \n",
       "3          1.0  4.000000e-08  4.000000e-08      8.533E-1  2021-02-25T11:36:19   \n",
       "\n",
       "                                                path  \\\n",
       "0  G:/Research/AI_STM/NanoscoPy/ExampleDataFiles\\...   \n",
       "1  G:/Research/AI_STM/NanoscoPy/ExampleDataFiles\\...   \n",
       "2  G:/Research/AI_STM/NanoscoPy/ExampleDataFiles\\...   \n",
       "3  G:/Research/AI_STM/NanoscoPy/ExampleDataFiles\\...   \n",
       "\n",
       "                                               image  \n",
       "0  [[-1.204225128503822e-07, -1.204216886208087e-...  \n",
       "1  [[-1.204103625696007e-07, -1.2040902674925746e...  \n",
       "2  [[1.0036380615474627e-09, 9.974532311218809e-1...  \n",
       "3  [[1.0091439905934863e-09, 1.007642969064193e-0...  "
      ]
     },
     "execution_count": 5,
     "metadata": {},
     "output_type": "execute_result"
    }
   ],
   "source": [
    "scans[0].dataframe.head()"
   ]
  },
  {
   "cell_type": "markdown",
   "id": "468bf074",
   "metadata": {},
   "source": [
    "### Correct the forward sweep data\n",
    "Each image is globally flattened via plane correction, followed by 2nd order polynomial background subtraction, line-by-line offset flattening, 3x3 gaussian smoothing, and CLAHE."
   ]
  },
  {
   "cell_type": "code",
   "execution_count": 6,
   "id": "ca4139be",
   "metadata": {},
   "outputs": [
    {
     "name": "stderr",
     "output_type": "stream",
     "text": [
      "C:\\Users\\Darian\\miniconda3\\lib\\site-packages\\spiepy\\flatten.py:54: FutureWarning: `rcond` parameter will change to the default of machine precision times ``max(M, N)`` where M and N are the input matrix dimensions.\n",
      "To use the future default and silence this warning we advise to pass `rcond=None`, to keep using the old, explicitly pass `rcond=-1`.\n",
      "  m, _, _, _ = np.linalg.lstsq(g, z)\n"
     ]
    },
    {
     "name": "stdout",
     "output_type": "stream",
     "text": [
      " Corrcting images...Done ########## [100.00%]"
     ]
    }
   ],
   "source": [
    "corrected_scans = spm.correct([spm_data.dataframe.at[0,'image'] for spm_data in scans])"
   ]
  },
  {
   "cell_type": "markdown",
   "id": "580d9dbf",
   "metadata": {},
   "source": [
    "### Show a comparison plot between some of the raw and processed images"
   ]
  },
  {
   "cell_type": "code",
   "execution_count": null,
   "id": "d85af557",
   "metadata": {
    "tags": []
   },
   "outputs": [],
   "source": [
    "n = 3\n",
    "fig, axs = plt.subplots(n, 2)\n",
    "fig.set_figheight(n * 3)\n",
    "fig.set_figwidth(2 * 4)\n",
    "for i in range(n):\n",
    "    raw = scans[i]\n",
    "    processed = corrected_scans[i]\n",
    "    sample_name = f'{raw.dataframe[\"sample_id\"].iloc[0]}'\n",
    "\n",
    "    axs[i, 0].imshow(raw.dataframe['image'].iloc[0] , origin = 'lower')\n",
    "    axs[i, 0].set_title(sample_name)\n",
    "    axs[i, 1].imshow(processed , origin = 'lower')\n",
    "    axs[i, 1].set_title(f'post-processed {sample_name}')\n",
    "\n",
    "# Hide x labels and tick labels for top plots and y ticks for right plots.\n",
    "for ax in axs.flat:\n",
    "    ax.xaxis.set_visible(False)\n",
    "    ax.yaxis.set_visible(False)"
   ]
  },
  {
   "cell_type": "markdown",
   "id": "dadbbd4e",
   "metadata": {},
   "source": [
    "### Output directories "
   ]
  },
  {
   "cell_type": "code",
   "execution_count": null,
   "id": "b01b6dd6",
   "metadata": {},
   "outputs": [],
   "source": [
    "dst_paths = [f'{Path(scan.dataframe[\"path\"].iloc[0]).parent}\\\\{scan.summary()}.jpg' for scan in scans]\n",
    "dst_paths"
   ]
  },
  {
   "cell_type": "markdown",
   "id": "968254cd",
   "metadata": {},
   "source": [
    "### Export the data as jpg"
   ]
  },
  {
   "cell_type": "code",
   "execution_count": null,
   "id": "78dc35f2",
   "metadata": {},
   "outputs": [],
   "source": [
    "spm.io.export_images(corrected_scans, dst_paths)"
   ]
  }
 ],
 "metadata": {
  "kernelspec": {
   "display_name": "Python 3",
   "language": "python",
   "name": "python3"
  },
  "language_info": {
   "codemirror_mode": {
    "name": "ipython",
    "version": 3
   },
   "file_extension": ".py",
   "mimetype": "text/x-python",
   "name": "python",
   "nbconvert_exporter": "python",
   "pygments_lexer": "ipython3",
   "version": "3.9.7"
  }
 },
 "nbformat": 4,
 "nbformat_minor": 5
}
