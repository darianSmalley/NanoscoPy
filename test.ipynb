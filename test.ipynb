{
 "cells": [
  {
   "cell_type": "code",
   "execution_count": 9,
   "source": [
    "import sys\r\n",
    "import matplotlib.pyplot as plt"
   ],
   "outputs": [],
   "metadata": {}
  },
  {
   "cell_type": "code",
   "execution_count": 10,
   "source": [
    "import nanoscopy"
   ],
   "outputs": [],
   "metadata": {}
  },
  {
   "cell_type": "code",
   "execution_count": null,
   "source": [
    "from tkinter import Tk, filedialog, Label\r\n",
    "root = Tk()\r\n",
    "Label(root, text=\"Select data folder\")\r\n",
    "folder_path = filedialog.askdirectory()\r\n",
    "root.destroy()"
   ],
   "outputs": [],
   "metadata": {}
  },
  {
   "cell_type": "code",
   "execution_count": null,
   "source": [
    "data, paths = nano.spm.io.read(folder_path, filter=filter)\r\n",
    "flat_data = nano.spm.process.flatten(data)"
   ],
   "outputs": [],
   "metadata": {}
  },
  {
   "cell_type": "code",
   "execution_count": null,
   "source": [
    "fig, (ax1, ax2) = plt.subplots(1, 2)\r\n",
    "fig.suptitle('STM Image Post-Processing')\r\n",
    "fig.set_figheight(6)\r\n",
    "fig.set_figwidth(12)\r\n",
    "\r\n",
    "ax1.imshow(data[0] , cmap = spiepy.NANOMAP, origin = 'lower')\r\n",
    "ax1.set_title('Raw Image')\r\n",
    "ax2.imshow(flat_data[0] , cmap = spiepy.NANOMAP, origin = 'lower')\r\n",
    "ax2.set_title('Flattened and Smoothed Image')\r\n",
    "\r\n",
    "plt.show()"
   ],
   "outputs": [],
   "metadata": {}
  },
  {
   "cell_type": "code",
   "execution_count": null,
   "source": [
    "nano.spm.io.export_spm(flat_data, paths)"
   ],
   "outputs": [],
   "metadata": {}
  }
 ],
 "metadata": {
  "orig_nbformat": 4,
  "language_info": {
   "name": "python",
   "version": "3.8.11",
   "mimetype": "text/x-python",
   "codemirror_mode": {
    "name": "ipython",
    "version": 3
   },
   "pygments_lexer": "ipython3",
   "nbconvert_exporter": "python",
   "file_extension": ".py"
  },
  "kernelspec": {
   "name": "python3",
   "display_name": "Python 3.8.11 64-bit ('nanoscopy': conda)"
  },
  "interpreter": {
   "hash": "41c0e5d4ac12ea0ff6cba928ef45da102e4f03149b91da5a730bd2fc895858a9"
  }
 },
 "nbformat": 4,
 "nbformat_minor": 2
}