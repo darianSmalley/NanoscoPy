{
 "cells": [
  {
   "cell_type": "code",
   "execution_count": 1,
   "metadata": {},
   "outputs": [],
   "source": [
    "import os\n",
    "\n",
    "import torch\n",
    "import torch.nn as nn\n",
    "import torch.nn.functional as F\n",
    "import torch.optim as optim\n",
    "from torch.utils.data import DataLoader\n",
    "from torchvision import datasets, transforms\n",
    "from torch.utils.tensorboard import SummaryWriter\n",
    "from torch.utils.data import Dataset, Subset\n",
    "\n",
    "import numpy as np \n",
    "import matplotlib.pyplot as plt\n",
    "import pandas as pd\n",
    "import sklearn\n",
    "from sklearn.preprocessing import MinMaxScaler, StandardScaler  \n",
    "from sklearn.model_selection import train_test_split\n",
    "from sklearn.metrics import plot_confusion_matrix\n",
    "from sklearn.metrics import confusion_matrix\n",
    "import seaborn as sns"
   ]
  },
  {
   "cell_type": "code",
   "execution_count": 23,
   "metadata": {},
   "outputs": [],
   "source": [
    "class STSDataset(Dataset):\n",
    "    def __init__(self, annotations_file, num_classes, \n",
    "                 transform=None, target_transform=None):\n",
    "        self.sts_annotations = pd.read_csv(annotations_file)\n",
    "        self.num_classes = num_classes\n",
    "        self.transform = transform\n",
    "        self.target_transform = target_transform\n",
    "        self.sts_len = 0\n",
    "\n",
    "    def __len__(self):\n",
    "        return len(self.sts_annotations)\n",
    "\n",
    "    def __getitem__(self, idx):\n",
    "        if torch.is_tensor(idx):\n",
    "            idx = idx.tolist()\n",
    "        \n",
    "        # Get annotation data for current indicies\n",
    "#         sts_path = os.path.join(self.root_dir, self.sts_annotations.iloc[idx, 0])\n",
    "        sts_path = self.sts_annotations['files'][idx]\n",
    "    #         label = self.sts_annotations.iloc[idx, 1]\n",
    "        label = self.sts_annotations['category'][idx]\n",
    "        label_onehot = np.zeros(self.num_classes)\n",
    "        label_onehot[label] = 1\n",
    "    \n",
    "        # Read STS data from disk\n",
    "        sts_df = pd.read_csv(sts_path,\n",
    "                     sep=\"\\s+\",\n",
    "                     skiprows=10, \n",
    "                     usecols=[3], \n",
    "                     names=['dI/dV (A/V)'])\n",
    "                \n",
    "        # Standardize features by removing the mean and scaling to unit variance \n",
    "        # Then, the sts data will have standard, normal distribution\n",
    "        # (e.g. Gaussian with 0 mean and unit variance).\n",
    "        scaler_std = StandardScaler()\n",
    "        sts_std = scaler_std.fit_transform(sts_df).flatten()\n",
    "#          sts_std = sts_df['dI/dV (A/V)']\n",
    "        n = len(sts_std)\n",
    "        if self.sts_len == 0:\n",
    "            self.sts_len = n\n",
    "        elif self.sts_len != n:\n",
    "            if self.sts_len < n:\n",
    "                sts_std = sts_std[:self.sts_len]\n",
    "#                 print(len(sts_std))\n",
    "            else:\n",
    "                z = np.zeros(self.sts_len - n, dtype=float)\n",
    "                sts_std = np.concatenate((sts_std,z))\n",
    "#                 print(len(sts_std))\n",
    "        \n",
    "        if self.transform:\n",
    "            sts_std = self.transform(sts_std)\n",
    "        if self.target_transform:\n",
    "            label_onehot = self.target_transform(label_onehot)\n",
    "            \n",
    "        sample = {\"sts\": torch.tensor(sts_std, dtype=float), \"label\": label_onehot}\n",
    "        return torch.tensor(sts_std), label_onehot"
   ]
  },
  {
   "cell_type": "code",
   "execution_count": 7,
   "metadata": {},
   "outputs": [],
   "source": [
    "## *NOTE: Voltage sweep for all STS data is from high to low."
   ]
  },
  {
   "cell_type": "code",
   "execution_count": 8,
   "metadata": {},
   "outputs": [
    {
     "name": "stdout",
     "output_type": "stream",
     "text": [
      "Torch device selected:  cuda\n"
     ]
    }
   ],
   "source": [
    "# Check if cuda is available\n",
    "use_cuda = torch.cuda.is_available()\n",
    "\n",
    "# Set proper device based on cuda availability \n",
    "device = torch.device(\"cuda\" if use_cuda else \"cpu\")\n",
    "print(\"Torch device selected: \", device)"
   ]
  },
  {
   "cell_type": "code",
   "execution_count": 4,
   "metadata": {},
   "outputs": [
    {
     "data": {
      "text/plain": [
       "0    H:/Research/AI_STM/sts-storage/dpath/Au\\dI_dV0...\n",
       "1    H:/Research/AI_STM/sts-storage/dpath/Au\\dI_dV0...\n",
       "2    H:/Research/AI_STM/sts-storage/dpath/Au\\dI_dV0...\n",
       "3    H:/Research/AI_STM/sts-storage/dpath/Au\\dI_dV0...\n",
       "Name: files, dtype: object"
      ]
     },
     "execution_count": 4,
     "metadata": {},
     "output_type": "execute_result"
    }
   ],
   "source": [
    "labels_df = pd.read_csv('H:/Research/AI_STM/sts-storage/dpath/annotations.csv')\n",
    "labels_df['files'][[0,1,2,3,]]"
   ]
  },
  {
   "cell_type": "code",
   "execution_count": 5,
   "metadata": {},
   "outputs": [],
   "source": [
    "# Create transformations to apply to each data sample \n",
    "# Can specify variations such as image flip, color flip, random crop, ...\n",
    "transform=transforms.Compose([\n",
    "    transforms.Resize((1,1200)),\n",
    "    ])"
   ]
  },
  {
   "cell_type": "code",
   "execution_count": 6,
   "metadata": {},
   "outputs": [],
   "source": [
    "sts_dataset = STSDataset(annotations_file='H:/Research/AI_STM/sts-storage/dpath/annotations.csv',\n",
    "                        num_classes=2)"
   ]
  },
  {
   "cell_type": "code",
   "execution_count": 7,
   "metadata": {},
   "outputs": [
    {
     "name": "stdout",
     "output_type": "stream",
     "text": [
      "0 torch.Size([1200]) [1. 0.]\n",
      "1 torch.Size([1200]) [1. 0.]\n",
      "2 torch.Size([1200]) [1. 0.]\n",
      "3 torch.Size([1200]) [1. 0.]\n"
     ]
    },
    {
     "data": {
      "image/png": "[encoded data removed]",
      "text/plain": [
       "<Figure size 1440x576 with 4 Axes>"
      ]
     },
     "metadata": {
      "needs_background": "light"
     },
     "output_type": "display_data"
    }
   ],
   "source": [
    "fig = plt.figure(figsize=(20,8))\n",
    "\n",
    "for i in range(len(sts_dataset)):\n",
    "    sts, label = sts_dataset[i]\n",
    "    print(i, sts.shape, label)\n",
    "\n",
    "    ax = plt.subplot(1, 4, i + 1)\n",
    "    ax.set_title('Sample #{}'.format(i))\n",
    "    sample = sts.numpy()\n",
    "    plt.plot(sample)\n",
    "\n",
    "    if i == 3:\n",
    "        plt.show()\n",
    "        break"
   ]
  },
  {
   "cell_type": "markdown",
   "metadata": {},
   "source": [
    "# Create train and val subsets"
   ]
  },
  {
   "cell_type": "code",
   "execution_count": 8,
   "metadata": {},
   "outputs": [],
   "source": [
    "idxs = list(range(len(sts_dataset)))\n",
    "test_split = 0.3\n",
    "val_split = 0.3\n",
    "train_idx, test_idx = train_test_split(idxs, test_size=test_split)\n",
    "train_idx, val_idx = train_test_split(train_idx, test_size=val_split)\n",
    "sts_train_dataset = Subset(sts_dataset, train_idx)\n",
    "sts_val_dataset = Subset(sts_dataset, val_idx)\n",
    "sts_test_dataset = Subset(sts_dataset, test_idx)"
   ]
  },
  {
   "cell_type": "markdown",
   "metadata": {},
   "source": [
    "# Preparing data for training with DataLoaders"
   ]
  },
  {
   "cell_type": "code",
   "execution_count": 9,
   "metadata": {},
   "outputs": [],
   "source": [
    "train_dataloader = DataLoader(sts_train_dataset, batch_size=16, shuffle=True)\n",
    "val_dataloader = DataLoader(sts_val_dataset, batch_size=16, shuffle=True)\n",
    "test_dataloder = DataLoader(sts_test_dataset, batch_size=16, shuffle=False)"
   ]
  },
  {
   "cell_type": "markdown",
   "metadata": {},
   "source": [
    "### Test iteration through the DataLoader"
   ]
  },
  {
   "cell_type": "code",
   "execution_count": 10,
   "metadata": {},
   "outputs": [
    {
     "data": {
      "text/plain": [
       "(tensor([4.8175, 4.7111, 4.6784,  ..., 4.4837, 4.5361, 4.5462],\n",
       "        dtype=torch.float64),\n",
       " array([0., 1.]))"
      ]
     },
     "execution_count": 10,
     "metadata": {},
     "output_type": "execute_result"
    }
   ],
   "source": [
    "sts, label = next(iter(train_dataloader))\n",
    "sts_train_dataset[0]"
   ]
  },
  {
   "cell_type": "markdown",
   "metadata": {},
   "source": [
    "# Define Neural Network"
   ]
  },
  {
   "cell_type": "code",
   "execution_count": 11,
   "metadata": {},
   "outputs": [],
   "source": [
    "class Network(nn.Module):\n",
    "\n",
    "    def __init__(self, n, m, debug=False):\n",
    "        super().__init__()\n",
    "        self.debug = debug\n",
    "        self.fc1 = nn.Linear(n, 64)\n",
    "        self.b1 = nn.BatchNorm1d(64)\n",
    "        self.fc2 = nn.Linear(64,128)\n",
    "        self.b2 = nn.BatchNorm1d(128)\n",
    "        self.d1 = nn.Dropout(p=0.5)\n",
    "        self.fc3 = nn.Linear(128,m)\n",
    "\n",
    "    def forward(self,x):\n",
    "\n",
    "        x = F.relu(self.fc1(x))\n",
    "        x = self.b1(x)\n",
    "        x = F.relu(self.fc2(x))\n",
    "        x = self.b2(x)\n",
    "        x = self.d1(x)\n",
    "        x = torch.sigmoid(self.fc3(x))\n",
    "        \n",
    "        # Remove unnecessary dimensions and change shape to match target tensor\n",
    "        # [BATCH_SIZE, num_classes, 1, 1] --> [BATCH_SIZE,num_classes] to make predicitons\n",
    "        output = torch.squeeze(x)\n",
    "        if self.debug: print(\"output:\\t\", output.shape)\n",
    "\n",
    "        return x"
   ]
  },
  {
   "cell_type": "markdown",
   "metadata": {},
   "source": [
    "# Train Network"
   ]
  },
  {
   "cell_type": "code",
   "execution_count": 12,
   "metadata": {},
   "outputs": [],
   "source": [
    "def progbar(curr, total, full_progbar, accuracy):\n",
    "    frac = curr/total\n",
    "    filled_progbar = round(frac*full_progbar)\n",
    "    print('\\r', \n",
    "          '#'*filled_progbar + '-'*(full_progbar-filled_progbar), \n",
    "          '[{:>7.2%}]'.format(frac), \n",
    "          'Accuracy: [{:>7.2%}]'.format(accuracy),\n",
    "          end='')"
   ]
  },
  {
   "cell_type": "code",
   "execution_count": 13,
   "metadata": {},
   "outputs": [],
   "source": [
    "def train(model, device, train_loader, optimizer, criterion, epoch, batch_size, num_cats):\n",
    "    '''\n",
    "    Trains the model for an epoch and optimizes it.\n",
    "    model: The model to train. Should already be in correct device.\n",
    "    device: 'cuda' or 'cpu'.\n",
    "    train_loader: dataloader for training samples.\n",
    "    optimizer: optimizer to use for model parameter updates.\n",
    "    criterion: used to compute loss for prediction and target \n",
    "    epoch: Current epoch to train for.\n",
    "    batch_size: Batch size to be used.\n",
    "    '''\n",
    "    \n",
    "    # Set model to train mode before each epoch\n",
    "    model.train()\n",
    "    \n",
    "    # Empty list to store losses \n",
    "    losses = []\n",
    "    correct = 0\n",
    "    \n",
    "    # Iterate over entire training samples (1 epoch)\n",
    "    for batch_idx, batch_sample in enumerate(train_loader):\n",
    "        data, target = batch_sample\n",
    "        \n",
    "        # Push data/label to correct device\n",
    "        data, target = data.to(device), target.to(device)\n",
    "\n",
    "        # Reset optimizer gradients. Avoids grad accumulation (accumulation used in RNN).\n",
    "        optimizer.zero_grad()\n",
    "\n",
    "        # Do forward pass for current set of data\n",
    "        output = model(data.float())\n",
    "        \n",
    "        # Compute loss based on criterion\n",
    "        loss = criterion(output.float(), target.float())\n",
    "\n",
    "        # Computes gradient based on final loss\n",
    "        loss.backward()\n",
    "        \n",
    "        # Store loss\n",
    "        losses.append(loss.item())\n",
    "        \n",
    "        # Optimize model parameters based on learning rate and gradient \n",
    "        optimizer.step()\n",
    "\n",
    "        # Get predicted class by rounding \n",
    "        pred = output.round()\n",
    "        # Count correct predictions overall \n",
    "        # Get element-wise equality between the preds and the targets for this batch,\n",
    "        # finally sum the equalities and convert to a python float\n",
    "        n_equal = pred.eq(target).sum().item()\n",
    "        correct += n_equal\n",
    "\n",
    "        if model.debug: \n",
    "            batch_accuracy = n_equal / torch.numel(target)\n",
    "            progbar(batch_idx, len(train_loader), 10, batch_accuracy)\n",
    "    \n",
    "    train_loss = float(np.mean(losses))\n",
    "    train_acc = 100. * correct / ((batch_idx+1) * batch_size * num_cats)\n",
    "    \n",
    "    print('\\nTrain set\\t Average loss: {:.4f}\\t Average Accuracy: {}/{} ({:.0f}%)'.format(\n",
    "        train_loss, correct, (batch_idx+1) * batch_size * num_cats, train_acc))\n",
    "          \n",
    "    return train_loss, train_acc"
   ]
  },
  {
   "cell_type": "code",
   "execution_count": 14,
   "metadata": {},
   "outputs": [],
   "source": [
    "def test(model, device, test_loader, criterion, num_cats):\n",
    "    '''\n",
    "    Tests the model.\n",
    "    model: The model to train. Should already be in correct device.\n",
    "    device: 'cuda' or 'cpu'.\n",
    "    test_loader: dataloader for test samples.\n",
    "    '''\n",
    "    \n",
    "    # Set model to eval mode to notify all layers.\n",
    "    model.eval()\n",
    "    \n",
    "    losses = []\n",
    "    correct = 0\n",
    "    \n",
    "    # Set torch.no_grad() to disable gradient computation and backpropagation\n",
    "    with torch.no_grad():\n",
    "        for batch_idx, sample in enumerate(test_loader):\n",
    "            data, target = sample\n",
    "            data, target = data.to(device), target.to(device)\n",
    "                \n",
    "            # Predict for data by doing forward pass\n",
    "            output = model(data.float())\n",
    "            \n",
    "            # Compute loss based on same criterion as training\n",
    "            loss = criterion(output.float(), target.float())\n",
    "\n",
    "            # Append loss to overall test loss\n",
    "            losses.append(loss.item())\n",
    "\n",
    "            # Get predicted class by rounding \n",
    "            pred = output.round()\n",
    "            # Count correct predictions overall \n",
    "            # Get element-wise equality between the preds and the targets for this batch,\n",
    "            # finally sum the equalities and convert to a std python float\n",
    "            n_equal = pred.eq(target).sum().item()\n",
    "            correct += n_equal\n",
    "\n",
    "    test_loss = float(np.mean(losses))\n",
    "    test_acc = (100. * correct) / (len(test_loader.dataset) * num_cats)\n",
    "    print('Test set\\t Average loss: {:.4f}\\t Accuracy: {}/{} ({:.0f}%)'.format(\n",
    "        test_loss, correct, len(test_loader.dataset) * num_cats, test_acc))\n",
    "    \n",
    "    return test_loss, test_acc"
   ]
  },
  {
   "cell_type": "code",
   "execution_count": 15,
   "metadata": {},
   "outputs": [],
   "source": [
    "num_classes = 2\n",
    "n = len(sts_dataset[0][0])\n",
    "model = Network(n=n, m=num_classes, debug=False).to(device)\n",
    "EPOCHS = 10\n",
    "learning_rate = 0.001\n",
    "BATCH_SIZE = 16\n",
    "criterion = nn.BCELoss()\n",
    "optimizer = optim.Adam(model.parameters(), lr=learning_rate)"
   ]
  },
  {
   "cell_type": "code",
   "execution_count": 16,
   "metadata": {},
   "outputs": [],
   "source": [
    "best_accuracy = 0.0\n",
    "train_losses = np.zeros(EPOCHS)\n",
    "train_accuracies = np.zeros(EPOCHS)\n",
    "val_losses = np.zeros(EPOCHS)\n",
    "val_accuracies = np.zeros(EPOCHS)"
   ]
  },
  {
   "cell_type": "code",
   "execution_count": 17,
   "metadata": {},
   "outputs": [
    {
     "name": "stdout",
     "output_type": "stream",
     "text": [
      "Epoch 1\n",
      "\n",
      "Train set\t Average loss: 0.2228\t Average Accuracy: 946/1024 (92%)\n",
      "Test set\t Average loss: 0.0451\t Accuracy: 432/432 (100%)\n",
      "Epoch 2\n",
      "\n",
      "Train set\t Average loss: 0.0425\t Average Accuracy: 1003/1024 (98%)\n",
      "Test set\t Average loss: 0.0157\t Accuracy: 432/432 (100%)\n",
      "Epoch 3\n",
      "\n",
      "Train set\t Average loss: 0.0237\t Average Accuracy: 1002/1024 (98%)\n",
      "Test set\t Average loss: 0.0077\t Accuracy: 432/432 (100%)\n",
      "Epoch 4\n",
      "\n",
      "Train set\t Average loss: 0.0147\t Average Accuracy: 1006/1024 (98%)\n",
      "Test set\t Average loss: 0.0073\t Accuracy: 432/432 (100%)\n",
      "Epoch 5\n",
      "\n",
      "Train set\t Average loss: 0.0111\t Average Accuracy: 1006/1024 (98%)\n",
      "Test set\t Average loss: 0.0025\t Accuracy: 432/432 (100%)\n",
      "Epoch 6\n",
      "\n",
      "Train set\t Average loss: 0.0214\t Average Accuracy: 1000/1024 (98%)\n",
      "Test set\t Average loss: 0.0019\t Accuracy: 432/432 (100%)\n",
      "Epoch 7\n",
      "\n",
      "Train set\t Average loss: 0.0224\t Average Accuracy: 1002/1024 (98%)\n",
      "Test set\t Average loss: 0.0022\t Accuracy: 432/432 (100%)\n",
      "Epoch 8\n",
      "\n",
      "Train set\t Average loss: 0.0094\t Average Accuracy: 1006/1024 (98%)\n",
      "Test set\t Average loss: 0.0013\t Accuracy: 432/432 (100%)\n",
      "Epoch 9\n",
      "\n",
      "Train set\t Average loss: 0.0089\t Average Accuracy: 1005/1024 (98%)\n",
      "Test set\t Average loss: 0.0036\t Accuracy: 432/432 (100%)\n",
      "Epoch 10\n",
      "\n",
      "Train set\t Average loss: 0.0041\t Average Accuracy: 1006/1024 (98%)\n",
      "Test set\t Average loss: 0.0020\t Accuracy: 432/432 (100%)\n",
      "best accuracy was 100.00\n",
      "Training and evaluation finished\n"
     ]
    }
   ],
   "source": [
    "for epoch in range(1, EPOCHS + 1):\n",
    "    print(\"Epoch {}\".format(epoch))\n",
    "    train_loss, train_accuracy = train(model, device, \n",
    "                                           train_dataloader, \n",
    "                                           optimizer, criterion, \n",
    "                                           epoch, BATCH_SIZE, \n",
    "                                           num_classes)\n",
    "    val_loss, val_accuracy = test(model, device, \n",
    "                                    val_dataloader, \n",
    "                                    criterion, num_classes)\n",
    "\n",
    "    # Store epoch metrics in memory\n",
    "    i = epoch - 1\n",
    "    train_losses[i] = train_loss\n",
    "    train_accuracies[i] = train_accuracy\n",
    "    val_losses[i] = val_loss\n",
    "    val_accuracies[i] = val_accuracy\n",
    "\n",
    "    if val_accuracy > best_accuracy:\n",
    "        best_accuracy = val_accuracy\n",
    "        \n",
    "# Print final results to console\n",
    "print(\"best accuracy was {:2.2f}\".format(best_accuracy))\n",
    "print(\"Training and evaluation finished\")"
   ]
  },
  {
   "cell_type": "code",
   "execution_count": 18,
   "metadata": {},
   "outputs": [],
   "source": [
    "def plot_metrics(metrics):\n",
    "    plt.figure(figsize=(16, 12))\n",
    "    for n, metric in enumerate(['loss', 'accuracy']):\n",
    "        name = metric.replace(\"_\",\" \").capitalize()\n",
    "        plt.subplot(2,3,n+1)\n",
    "        plt.plot(metrics[metric], label='Train')\n",
    "        plt.plot(metrics['val_'+metric], linestyle=\"--\", label='Val')\n",
    "        plt.xlabel('Epoch')\n",
    "        plt.ylabel(name)\n",
    "        plt.autoscale()\n",
    "        plt.legend()\n",
    "        plt.title(\"Standardized Data\")\n",
    "        \n",
    "    plt.autoscale()\n",
    "    plt.legend()"
   ]
  },
  {
   "cell_type": "code",
   "execution_count": 19,
   "metadata": {},
   "outputs": [
    {
     "data": {
      "image/png": "[encoded data removed]",
      "text/plain": [
       "<Figure size 1152x864 with 2 Axes>"
      ]
     },
     "metadata": {
      "needs_background": "light"
     },
     "output_type": "display_data"
    }
   ],
   "source": [
    "plot_metrics({\n",
    "    \"loss\": train_losses, \n",
    "    \"accuracy\": train_accuracies, \n",
    "    \"val_loss\": val_losses, \n",
    "    \"val_accuracy\": val_accuracies\n",
    "})"
   ]
  },
  {
   "cell_type": "markdown",
   "metadata": {},
   "source": [
    "# Evalutate Model Predictions"
   ]
  },
  {
   "cell_type": "code",
   "execution_count": 24,
   "metadata": {},
   "outputs": [],
   "source": [
    "def make_predictions(model, device, test_loader):\n",
    "    # Set model to eval mode to notify all layers.\n",
    "    model.eval()\n",
    "    \n",
    "    targets = []\n",
    "    preds = []\n",
    "    \n",
    "    # Set torch.no_grad() to disable gradient computation and backpropagation\n",
    "    with torch.no_grad():\n",
    "        for batch_idx, sample in enumerate(test_loader):\n",
    "            data, target = sample\n",
    "            data, target = data.to(device), target.to(device)\n",
    "            \n",
    "            # Predict for data by doing forward pass\n",
    "            output = model(data.float())\n",
    "            pred = torch.round(output)\n",
    "            preds.append(pred.cpu().numpy())\n",
    "            targets.append(target.cpu().numpy())\n",
    "            \n",
    "    targets = [np.hstack(y) for y in targets]\n",
    "    preds = [np.hstack(y) for y in preds]\n",
    "    \n",
    "    targets = np.hstack(targets)\n",
    "    preds = np.hstack(preds)\n",
    "    \n",
    "    return targets, preds"
   ]
  },
  {
   "cell_type": "code",
   "execution_count": 25,
   "metadata": {},
   "outputs": [],
   "source": [
    "y_true_baseline, y_pred_baseline = make_predictions(model, device, train_dataloader)"
   ]
  },
  {
   "cell_type": "code",
   "execution_count": 26,
   "metadata": {},
   "outputs": [],
   "source": [
    "y_true, y_pred = make_predictions(model, device, test_dataloder)"
   ]
  },
  {
   "cell_type": "code",
   "execution_count": null,
   "metadata": {},
   "outputs": [],
   "source": [
    "# y_true = [np.hstack(y) for y in y_true]\n",
    "# y_pred = [np.hstack(y) for y in y_pred]"
   ]
  },
  {
   "cell_type": "code",
   "execution_count": null,
   "metadata": {},
   "outputs": [],
   "source": [
    "# y_true = np.hstack(y_true)\n",
    "# y_pred = np.hstack(y_pred)"
   ]
  },
  {
   "cell_type": "code",
   "execution_count": 27,
   "metadata": {},
   "outputs": [
    {
     "name": "stdout",
     "output_type": "stream",
     "text": [
      "618\n",
      "618\n"
     ]
    }
   ],
   "source": [
    "print(len(y_true))\n",
    "print(len(y_pred))\n",
    "# Need to account for the [nx2] target vs the torch.max [nx1] pred.  "
   ]
  },
  {
   "cell_type": "code",
   "execution_count": 28,
   "metadata": {},
   "outputs": [],
   "source": [
    "def plot_cm(labels, predictions, p=0.5, num_classes=2):\n",
    "    cm = confusion_matrix(labels, predictions, labels=range(num_classes))\n",
    "    plt.figure(figsize=(5,5))\n",
    "    sns.heatmap(cm, annot=True, fmt=\"d\", cmap=plt.cm.Blues)\n",
    "    plt.title('Confusion matrix @{:.2f}'.format(p))\n",
    "    plt.ylabel('Actual label')\n",
    "    plt.xlabel('Predicted label')\n",
    "\n",
    "    print('True Negatives: ', cm[0][0])\n",
    "    print('False Positives: ', cm[0][1])\n",
    "    print('False Negatives: ', cm[1][0])\n",
    "    print('True Positives: ', cm[1][1])\n",
    "    print('Total Fraudulent: ', np.sum(cm[1]))"
   ]
  },
  {
   "cell_type": "code",
   "execution_count": 29,
   "metadata": {},
   "outputs": [
    {
     "name": "stdout",
     "output_type": "stream",
     "text": [
      "True Negatives:  309\n",
      "False Positives:  0\n",
      "False Negatives:  0\n",
      "True Positives:  309\n",
      "Total Fraudulent:  309\n"
     ]
    },
    {
     "data": {
      "image/png": "[encoded data removed]",
      "text/plain": [
       "<Figure size 360x360 with 2 Axes>"
      ]
     },
     "metadata": {
      "needs_background": "light"
     },
     "output_type": "display_data"
    }
   ],
   "source": [
    "plot_cm(y_true, y_pred, num_classes=2)"
   ]
  },
  {
   "cell_type": "markdown",
   "metadata": {},
   "source": [
    "## Plot the ROC\n",
    "Now plot the ROC. This plot is useful because it shows, at a glance, the range of performance the model can reach just by tuning the output threshold."
   ]
  },
  {
   "cell_type": "code",
   "execution_count": 35,
   "metadata": {},
   "outputs": [],
   "source": [
    "def plot_roc(name, labels, predictions, **kwargs):\n",
    "    fp, tp, _ = sklearn.metrics.roc_curve(labels, predictions)\n",
    "    plt.plot(100*fp, 100*tp, label=name, linewidth=2, **kwargs)\n",
    "    plt.xlabel('False positives [%]')\n",
    "    plt.ylabel('True positives [%]')\n",
    "    plt.grid(True)\n",
    "    ax = plt.gca()\n",
    "    ax.set_aspect('equal')"
   ]
  },
  {
   "cell_type": "code",
   "execution_count": 36,
   "metadata": {},
   "outputs": [],
   "source": [
    "from itertools import cycle\n",
    "def plot_roc_multiclass(name, labels, predictions, **kwargs):\n",
    "    fpr = dict()\n",
    "    tpr = dict()\n",
    "    roc_auc = dict()\n",
    "    n_classes = 2\n",
    "    plt.figure(figsize=(8, 6))\n",
    "    for i in range(n_classes):\n",
    "        y_test = (labels == i).astype(int)\n",
    "        y_pred = (predictions == i).astype(int)\n",
    "        fpr[i], tpr[i], _ = sklearn.metrics.roc_curve(y_test, y_pred)\n",
    "        roc_auc[i] = sklearn.metrics.auc(fpr[i], tpr[i])\n",
    "#         roc_display = sklearn.metrics.RocCurveDisplay(fpr=fpr[i], tpr=tpr[i]).plot()\n",
    "    \n",
    "    lw = 2\n",
    "    colors = cycle(['blue', 'red', 'green', 'purple'])\n",
    "    for i, color in zip(range(n_classes), colors):\n",
    "        plt.plot(fpr[i], tpr[i], color=color, lw=lw,\n",
    "                 label='ROC curve class {0} (area = {1:0.2f})'.format(i, roc_auc[i]))\n",
    "    \n",
    "    plt.plot([0, 1], [0, 1], 'k--', lw=lw, label='No Skill')\n",
    "    plt.xlim([-0.05, 1.0])\n",
    "    plt.ylim([0.0, 1.05])\n",
    "    plt.xlabel('False Positive Rate (%)')\n",
    "    plt.ylabel('True Positive Rate (%)')\n",
    "    plt.title('Receiver operating characteristic for {} data'.format(name))\n",
    "    plt.legend(loc=\"lower right\")\n",
    "    plt.gca().set_aspect('equal')\n",
    "    plt.show()"
   ]
  },
  {
   "cell_type": "code",
   "execution_count": 37,
   "metadata": {},
   "outputs": [
    {
     "data": {
      "image/png": "[encoded data removed]",
      "text/plain": [
       "<Figure size 576x432 with 1 Axes>"
      ]
     },
     "metadata": {
      "needs_background": "light"
     },
     "output_type": "display_data"
    },
    {
     "data": {
      "image/png": "[encoded data removed]",
      "text/plain": [
       "<Figure size 576x432 with 1 Axes>"
      ]
     },
     "metadata": {
      "needs_background": "light"
     },
     "output_type": "display_data"
    }
   ],
   "source": [
    "plot_roc_multiclass(\"Train\", y_true_baseline, y_pred_baseline)\n",
    "plot_roc_multiclass(\"Test\", y_true,  y_pred, linestyle='--')"
   ]
  },
  {
   "cell_type": "code",
   "execution_count": 38,
   "metadata": {},
   "outputs": [],
   "source": [
    "from sklearn.metrics import precision_recall_curve\n",
    "\n",
    "def plot_pr_multiclass(name, labels, predictions, **kwargs):\n",
    "    precision = dict()\n",
    "    recall = dict()\n",
    "    thresholds = dict()\n",
    "    mAP = dict()\n",
    "    n_classes = 2\n",
    "    plt.figure(figsize=(8, 6))\n",
    "    for i in range(n_classes):\n",
    "        y_test = (labels == i).astype(int)\n",
    "        y_pred = (predictions == i).astype(int)\n",
    "        precision[i], recall[i], thresholds[i] = sklearn.metrics.precision_recall_curve(y_test, y_pred)\n",
    "        mAP[i] = sklearn.metrics.average_precision_score(y_test, y_pred)\n",
    "#         pr_display = sklearn.metrics.PrecisionRecallDisplay(precision=precision[i], recall=recall[i]).plot()\n",
    "        \n",
    "    lw = 2\n",
    "    colors = cycle(['blue', 'red', 'green', 'purple'])\n",
    "    for i, color in zip(range(n_classes), colors):\n",
    "        plt.plot(recall[i], precision[i], color=color, lw=lw,\n",
    "                 label='Percision-Recall curve class {0} (mAP = {1:0.2f})'.format(i, mAP[i]))\n",
    "\n",
    "    no_skill = len(labels[labels==1]) / len(labels)\n",
    "    plt.plot([0, 1], [no_skill, no_skill], 'k--', linestyle='--', label='No Skill')\n",
    "    plt.xlim([-0.05, 1.0])\n",
    "    plt.ylim([0.0, 1.05])\n",
    "    plt.xlabel('Recall')\n",
    "    plt.ylabel('Percision')\n",
    "    plt.title('Percision-Recall Curve for {} data'.format(name))\n",
    "    plt.legend(loc=\"upper right\")\n",
    "    plt.gca().set_aspect('equal')\n",
    "    plt.show()"
   ]
  },
  {
   "cell_type": "code",
   "execution_count": 39,
   "metadata": {},
   "outputs": [
    {
     "data": {
      "image/png": "[encoded data removed]",
      "text/plain": [
       "<Figure size 576x432 with 1 Axes>"
      ]
     },
     "metadata": {
      "needs_background": "light"
     },
     "output_type": "display_data"
    },
    {
     "data": {
      "image/png": "[encoded data removed]",
      "text/plain": [
       "<Figure size 576x432 with 1 Axes>"
      ]
     },
     "metadata": {
      "needs_background": "light"
     },
     "output_type": "display_data"
    }
   ],
   "source": [
    "plot_pr_multiclass(\"Train\",  y_true_baseline, y_pred_baseline)\n",
    "plot_pr_multiclass(\"Test\",  y_true,  y_pred, linestyle='--')"
   ]
  },
  {
   "cell_type": "markdown",
   "metadata": {},
   "source": [
    "# Explore synthetic S vacancy in WS2 STS map with drift compensation"
   ]
  },
  {
   "cell_type": "code",
   "execution_count": 2,
   "metadata": {},
   "outputs": [],
   "source": [
    "import matplotlib.pyplot as plt\n",
    "import numpy as np\n",
    "from sklearn.datasets import make_blobs\n",
    "from sklearn.cluster import KMeans, MeanShift, estimate_bandwidth"
   ]
  },
  {
   "cell_type": "code",
   "execution_count": 5,
   "metadata": {},
   "outputs": [
    {
     "data": {
      "text/plain": [
       "(128, 128)"
      ]
     },
     "execution_count": 5,
     "metadata": {},
     "output_type": "execute_result"
    }
   ],
   "source": [
    "STS_ann = np.load('G:/Research/AI_STM/sts-storage/dpath/STS-cube_annotations.npy')\n",
    "STS_ann.shape"
   ]
  },
  {
   "cell_type": "code",
   "execution_count": 6,
   "metadata": {},
   "outputs": [
    {
     "data": {
      "text/plain": [
       "(128, 128, 1200)"
      ]
     },
     "execution_count": 6,
     "metadata": {},
     "output_type": "execute_result"
    }
   ],
   "source": [
    "STS = np.load('G:/Research/AI_STM/sts-storage/dpath/testdataVacancy_full.npy')\n",
    "STS.shape"
   ]
  },
  {
   "cell_type": "code",
   "execution_count": 8,
   "metadata": {},
   "outputs": [
    {
     "data": {
      "text/plain": [
       "(16384, 1200)"
      ]
     },
     "execution_count": 8,
     "metadata": {},
     "output_type": "execute_result"
    }
   ],
   "source": [
    "# X = STS.flatten()\n",
    "X = STS.reshape(-1, 1200)\n",
    "X.shape"
   ]
  },
  {
   "cell_type": "code",
   "execution_count": null,
   "metadata": {},
   "outputs": [],
   "source": [
    "# Estimate bandwith\n",
    "bandwidth = estimate_bandwidth(X, quantile=0.2, n_samples=500)\n",
    "\n",
    "# Fit Mean Shift with Scikit\n",
    "meanshift = MeanShift(bandwidth=bandwidth)\n",
    "meanshift.fit(X)\n",
    "labels = meanshift.labels_\n",
    "cluster_centers = meanshift.cluster_centers_\n",
    "\n",
    "labels_unique = np.unique(labels)\n",
    "n_clusters_ = len(labels_unique)\n",
    "print(\"number of estimated clusters : %d\" % n_clusters_)"
   ]
  },
  {
   "cell_type": "code",
   "execution_count": 60,
   "metadata": {},
   "outputs": [
    {
     "name": "stdout",
     "output_type": "stream",
     "text": [
      "number of estimated clusters : 2\n"
     ]
    },
    {
     "name": "stderr",
     "output_type": "stream",
     "text": [
      "<ipython-input-60-4bd7a7bf5c3e>:2: ConvergenceWarning: Number of distinct clusters (2) found smaller than n_clusters (3). Possibly due to duplicate points in X.\n",
      "  k_means.fit(X)\n"
     ]
    }
   ],
   "source": [
    "k_means = KMeans(n_clusters=3)\n",
    "k_means.fit(X)\n",
    "k_labels = k_means.labels_\n",
    "k_cluster_centers = k_means.cluster_centers_\n",
    "\n",
    "k_labels_unique = np.unique(labels)\n",
    "k_n_clusters_ = len(labels_unique)\n",
    "print(\"number of estimated clusters : %d\" % k_n_clusters_)"
   ]
  },
  {
   "cell_type": "code",
   "execution_count": 29,
   "metadata": {},
   "outputs": [],
   "source": [
    "import pickle\n",
    "# save the model to disk\n",
    "filename = 'mean-shift_model.sav'\n",
    "pickle.dump(meanshift, open(filename, 'wb'))"
   ]
  },
  {
   "cell_type": "code",
   "execution_count": 30,
   "metadata": {},
   "outputs": [],
   "source": [
    "# Predict the cluster for all the samples\n",
    "P = meanshift.predict(X)"
   ]
  },
  {
   "cell_type": "code",
   "execution_count": 62,
   "metadata": {},
   "outputs": [],
   "source": [
    "# Predict the cluster for all the samples\n",
    "P = k_means.predict(X)"
   ]
  },
  {
   "cell_type": "code",
   "execution_count": 66,
   "metadata": {},
   "outputs": [
    {
     "ename": "TypeError",
     "evalue": "scatter() missing 1 required positional argument: 'y'",
     "output_type": "error",
     "traceback": [
      "\u001b[1;31m---------------------------------------------------------------------------\u001b[0m",
      "\u001b[1;31mTypeError\u001b[0m                                 Traceback (most recent call last)",
      "\u001b[1;32m<ipython-input-66-76cb77a9e54b>\u001b[0m in \u001b[0;36m<module>\u001b[1;34m\u001b[0m\n\u001b[0;32m      1\u001b[0m \u001b[1;31m# Generate scatter plot for training data\u001b[0m\u001b[1;33m\u001b[0m\u001b[1;33m\u001b[0m\u001b[1;33m\u001b[0m\u001b[0m\n\u001b[0;32m      2\u001b[0m \u001b[0mcolors\u001b[0m \u001b[1;33m=\u001b[0m \u001b[0mlist\u001b[0m\u001b[1;33m(\u001b[0m\u001b[0mmap\u001b[0m\u001b[1;33m(\u001b[0m\u001b[1;32mlambda\u001b[0m \u001b[0mx\u001b[0m\u001b[1;33m:\u001b[0m \u001b[1;34m'#3b4cc0'\u001b[0m \u001b[1;32mif\u001b[0m \u001b[0mx\u001b[0m \u001b[1;33m==\u001b[0m \u001b[1;36m1\u001b[0m \u001b[1;32melse\u001b[0m \u001b[1;34m'#b40426'\u001b[0m \u001b[1;32mif\u001b[0m \u001b[0mx\u001b[0m \u001b[1;33m==\u001b[0m \u001b[1;36m2\u001b[0m \u001b[1;32melse\u001b[0m \u001b[1;34m'#67c614'\u001b[0m\u001b[1;33m,\u001b[0m \u001b[0mP\u001b[0m\u001b[1;33m)\u001b[0m\u001b[1;33m)\u001b[0m\u001b[1;33m\u001b[0m\u001b[1;33m\u001b[0m\u001b[0m\n\u001b[1;32m----> 3\u001b[1;33m \u001b[0mplt\u001b[0m\u001b[1;33m.\u001b[0m\u001b[0mscatter\u001b[0m\u001b[1;33m(\u001b[0m\u001b[0mX\u001b[0m\u001b[1;33m[\u001b[0m\u001b[1;33m:\u001b[0m\u001b[1;33m]\u001b[0m\u001b[1;33m,\u001b[0m \u001b[0mc\u001b[0m\u001b[1;33m=\u001b[0m\u001b[0mcolors\u001b[0m\u001b[1;33m,\u001b[0m \u001b[0mmarker\u001b[0m\u001b[1;33m=\u001b[0m\u001b[1;34m\"o\"\u001b[0m\u001b[1;33m,\u001b[0m \u001b[0mpicker\u001b[0m\u001b[1;33m=\u001b[0m\u001b[1;32mTrue\u001b[0m\u001b[1;33m)\u001b[0m\u001b[1;33m\u001b[0m\u001b[1;33m\u001b[0m\u001b[0m\n\u001b[0m\u001b[0;32m      4\u001b[0m \u001b[0mplt\u001b[0m\u001b[1;33m.\u001b[0m\u001b[0mtitle\u001b[0m\u001b[1;33m(\u001b[0m\u001b[1;34mf'Estimated number of clusters = {n_clusters_}'\u001b[0m\u001b[1;33m)\u001b[0m\u001b[1;33m\u001b[0m\u001b[1;33m\u001b[0m\u001b[0m\n\u001b[0;32m      5\u001b[0m \u001b[0mplt\u001b[0m\u001b[1;33m.\u001b[0m\u001b[0mxlabel\u001b[0m\u001b[1;33m(\u001b[0m\u001b[1;34m'Voltage'\u001b[0m\u001b[1;33m)\u001b[0m\u001b[1;33m\u001b[0m\u001b[1;33m\u001b[0m\u001b[0m\n",
      "\u001b[1;31mTypeError\u001b[0m: scatter() missing 1 required positional argument: 'y'"
     ]
    }
   ],
   "source": [
    "# Generate scatter plot for training data\n",
    "colors = list(map(lambda x: '#3b4cc0' if x == 1 else '#b40426' if x == 2 else '#67c614', P))\n",
    "plt.scatter(X[:], c=colors, marker=\"o\", picker=True)\n",
    "plt.title(f'Estimated number of clusters = {n_clusters_}')\n",
    "plt.xlabel('Voltage')\n",
    "plt.ylabel('dI/dV')\n",
    "plt.show()"
   ]
  },
  {
   "cell_type": "code",
   "execution_count": null,
   "metadata": {},
   "outputs": [],
   "source": [
    "# #############################################################################\n",
    "# Plot result\n",
    "import matplotlib.pyplot as plt\n",
    "from itertools import cycle\n",
    "\n",
    "plt.figure(1)\n",
    "plt.clf()\n",
    "\n",
    "colors = cycle('bgrcmykbgrcmykbgrcmykbgrcmyk')\n",
    "for k, col in zip(range(k_n_clusters_), colors):\n",
    "    my_members = labels == k\n",
    "    cluster_center = k_cluster_centers[k]\n",
    "    plt.plot(X[my_members, 0], X[my_members, 1], col + '.')\n",
    "    plt.plot(k_cluster_centers[0], k_cluster_centers[1], 'o', markerfacecolor=col,\n",
    "             markeredgecolor='k', markersize=10)\n",
    "plt.title('Estimated number of clusters: %d' % n_clusters_)\n",
    "plt.show()"
   ]
  },
  {
   "cell_type": "code",
   "execution_count": null,
   "metadata": {},
   "outputs": [],
   "source": [
    "def npy_loader(path):\n",
    "    sample = torch.from_numpy(np.load(path))\n",
    "    return sample"
   ]
  },
  {
   "cell_type": "code",
   "execution_count": null,
   "metadata": {},
   "outputs": [],
   "source": [
    "sts_dataset = STSDataset(annotations_file='H:/Research/AI_STM/sts-storage/dpath/annotations.csv',\n",
    "                        num_classes=2)"
   ]
  },
  {
   "cell_type": "code",
   "execution_count": null,
   "metadata": {},
   "outputs": [],
   "source": [
    "class STSDataset(Dataset):\n",
    "    def __init__(self, annotations_file, num_classes, \n",
    "                 transform=None, target_transform=None):\n",
    "        self.sts_annotations = pd.read_csv(annotations_file)\n",
    "        self.num_classes = num_classes\n",
    "        self.transform = transform\n",
    "        self.target_transform = target_transform\n",
    "        self.sts_len = 0\n",
    "\n",
    "    def __len__(self):\n",
    "        return len(self.sts_annotations)\n",
    "\n",
    "    def __getitem__(self, idx):\n",
    "        if torch.is_tensor(idx):\n",
    "            idx = idx.tolist()\n",
    "        \n",
    "        # Get annotation data for current indicies\n",
    "#         sts_path = os.path.join(self.root_dir, self.sts_annotations.iloc[idx, 0])\n",
    "        sts_path = self.sts_annotations['files'][idx]\n",
    "    #         label = self.sts_annotations.iloc[idx, 1]\n",
    "        label = self.sts_annotations['category'][idx]\n",
    "        label_onehot = np.zeros(self.num_classes)\n",
    "        label_onehot[label] = 1\n",
    "    \n",
    "        # Read STS data from disk\n",
    "        sts_df = pd.read_csv(sts_path,\n",
    "                     sep=\"\\s+\",\n",
    "                     skiprows=10, \n",
    "                     usecols=[3], \n",
    "                     names=['dI/dV (A/V)'])\n",
    "                \n",
    "        # Standardize features by removing the mean and scaling to unit variance \n",
    "        # Then, the sts data will have standard, normal distribution\n",
    "        # (e.g. Gaussian with 0 mean and unit variance).\n",
    "        scaler_std = StandardScaler()\n",
    "        sts_std = scaler_std.fit_transform(sts_df).flatten()\n",
    "#          sts_std = sts_df['dI/dV (A/V)']\n",
    "        n = len(sts_std)\n",
    "        if self.sts_len == 0:\n",
    "            self.sts_len = n\n",
    "        elif self.sts_len != n:\n",
    "            if self.sts_len < n:\n",
    "                sts_std = sts_std[:self.sts_len]\n",
    "#                 print(len(sts_std))\n",
    "            else:\n",
    "                z = np.zeros(self.sts_len - n, dtype=float)\n",
    "                sts_std = np.concatenate((sts_std,z))\n",
    "#                 print(len(sts_std))\n",
    "        \n",
    "        if self.transform:\n",
    "            sts_std = self.transform(sts_std)\n",
    "        if self.target_transform:\n",
    "            label_onehot = self.target_transform(label_onehot)\n",
    "            \n",
    "        sample = {\"sts\": torch.tensor(sts_std, dtype=float), \"label\": label_onehot}\n",
    "        return torch.tensor(sts_std), label_onehot"
   ]
  }
 ],
 "metadata": {
  "kernelspec": {
   "display_name": "Python 3",
   "language": "python",
   "name": "python3"
  },
  "language_info": {
   "codemirror_mode": {
    "name": "ipython",
    "version": 3
   },
   "file_extension": ".py",
   "mimetype": "text/x-python",
   "name": "python",
   "nbconvert_exporter": "python",
   "pygments_lexer": "ipython3",
   "version": "3.8.10"
  }
 },
 "nbformat": 4,
 "nbformat_minor": 4
}
