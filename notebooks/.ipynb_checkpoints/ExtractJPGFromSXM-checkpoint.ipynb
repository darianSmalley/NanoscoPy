{
 "cells": [
  {
   "cell_type": "code",
   "execution_count": 1,
   "metadata": {},
   "outputs": [
    {
     "ename": "ModuleNotFoundError",
     "evalue": "No module named 'pySPM'",
     "output_type": "error",
     "traceback": [
      "\u001b[1;31m---------------------------------------------------------------------------\u001b[0m",
      "\u001b[1;31mModuleNotFoundError\u001b[0m                       Traceback (most recent call last)",
      "\u001b[1;32m<ipython-input-1-6d8c28be1278>\u001b[0m in \u001b[0;36m<module>\u001b[1;34m\u001b[0m\n\u001b[1;32m----> 1\u001b[1;33m \u001b[1;32mimport\u001b[0m \u001b[0mpySPM\u001b[0m\u001b[1;33m\u001b[0m\u001b[1;33m\u001b[0m\u001b[0m\n\u001b[0m\u001b[0;32m      2\u001b[0m \u001b[1;32mimport\u001b[0m \u001b[0mnumpy\u001b[0m \u001b[1;32mas\u001b[0m \u001b[0mnp\u001b[0m\u001b[1;33m\u001b[0m\u001b[1;33m\u001b[0m\u001b[0m\n\u001b[0;32m      3\u001b[0m \u001b[1;32mimport\u001b[0m \u001b[0mmatplotlib\u001b[0m\u001b[1;33m.\u001b[0m\u001b[0mpyplot\u001b[0m \u001b[1;32mas\u001b[0m \u001b[0mplt\u001b[0m\u001b[1;33m\u001b[0m\u001b[1;33m\u001b[0m\u001b[0m\n\u001b[0;32m      4\u001b[0m \u001b[1;32mimport\u001b[0m \u001b[0mmatplotlib\u001b[0m \u001b[1;32mas\u001b[0m \u001b[0mmpl\u001b[0m\u001b[1;33m\u001b[0m\u001b[1;33m\u001b[0m\u001b[0m\n\u001b[0;32m      5\u001b[0m \u001b[1;33m\u001b[0m\u001b[0m\n",
      "\u001b[1;31mModuleNotFoundError\u001b[0m: No module named 'pySPM'"
     ]
    }
   ],
   "source": [
    "import pySPM\n",
    "import numpy as np\n",
    "import matplotlib.pyplot as plt\n",
    "import matplotlib as mpl\n",
    "\n",
    "import os\n",
    "from IPython import display"
   ]
  },
  {
   "cell_type": "code",
   "execution_count": 11,
   "metadata": {},
   "outputs": [],
   "source": [
    "root_dir = os.getcwd()\n",
    "herringbone_source_dir = os.path.join(root_dir, 'au-111_herringbone_sxm\\\\')\n",
    "notherringboen_source_dir = os.path.join(root_dir, 'au-111_notherringbone_sxm\\\\')\n",
    "unknown_source_dir = os.path.join(root_dir, 'au-111_unsure_sxm')"
   ]
  },
  {
   "cell_type": "code",
   "execution_count": 11,
   "metadata": {},
   "outputs": [],
   "source": [
    "base_dir =  os.path.join(root_dir, 'herringbone_and_notherringbone')\n",
    "train_dir = os.path.join(base_dir, 'train')\n",
    "validation_dir = os.path.join(base_dir, 'validation')"
   ]
  },
  {
   "cell_type": "code",
   "execution_count": 17,
   "metadata": {},
   "outputs": [],
   "source": [
    "def extract_as_jpg(src_dir, dst_dir, label):\n",
    "    for index, file in enumerate(os.listdir(src_dir)):\n",
    "        try:\n",
    "            if file.endswith(\".sxm\"):\n",
    "                # Read sxm STM data\n",
    "                src_path = os.path.join(src_dir,file)\n",
    "                data = pySPM.SXM(src_path)\n",
    "\n",
    "                try:\n",
    "                    image = data.get_channel('Z').correct_plane(inline=False).pixels\n",
    "                    matrix_image = np.asmatrix(image)\n",
    "                    dst_path = os.path.join(dst_dir,'{}.{}.jpg'.format(label,index))\n",
    "                    plt.imsave(dst_path, matrix_image)\n",
    "\n",
    "                except Exception as e:\n",
    "                    print('Error detected:', e)\n",
    "\n",
    "        except Exception as e:\n",
    "            raise e\n",
    "            print(\"Error! No files found here\")\n",
    "\n",
    "    print('All files in folder have been saved as jpgs.')"
   ]
  },
  {
   "cell_type": "code",
   "execution_count": 13,
   "metadata": {},
   "outputs": [
    {
     "name": "stdout",
     "output_type": "stream",
     "text": [
      "All files in folder have been saved as jpgs.\n"
     ]
    }
   ],
   "source": [
    "extract_as_jpg(herringbone_source_dir, base_dir, 'herringbone')"
   ]
  },
  {
   "cell_type": "code",
   "execution_count": 19,
   "metadata": {},
   "outputs": [
    {
     "name": "stdout",
     "output_type": "stream",
     "text": [
      "All files in folder have been saved as jpgs.\n"
     ]
    }
   ],
   "source": [
    "extract_as_jpg(notherringboen_source_dir, base_dir, 'notherringbone')"
   ]
  },
  {
   "cell_type": "code",
   "execution_count": null,
   "metadata": {},
   "outputs": [],
   "source": [
    "extract_as_jpg(unknown_source_dir, base_dir, 'notherringbone')"
   ]
  }
 ],
 "metadata": {
  "kernelspec": {
   "display_name": "Python 3",
   "language": "python",
   "name": "python3"
  },
  "language_info": {
   "codemirror_mode": {
    "name": "ipython",
    "version": 3
   },
   "file_extension": ".py",
   "mimetype": "text/x-python",
   "name": "python",
   "nbconvert_exporter": "python",
   "pygments_lexer": "ipython3",
   "version": "3.7.3"
  }
 },
 "nbformat": 4,
 "nbformat_minor": 4
}
