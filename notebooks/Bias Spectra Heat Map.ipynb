{
 "cells": [
  {
   "cell_type": "code",
   "execution_count": 1,
   "metadata": {},
   "outputs": [],
   "source": [
    "import glob, os, sys, inspect\n",
    "import pandas as pd\n",
    "import shutil\n",
    "import matplotlib.pyplot as plt\n",
    "import numpy as np\n",
    "import math"
   ]
  },
  {
   "cell_type": "code",
   "execution_count": 2,
   "metadata": {},
   "outputs": [],
   "source": [
    "currentdir = os.path.dirname(os.path.abspath(inspect.getfile(inspect.currentframe())))\n",
    "parentdir = os.path.dirname(currentdir)\n",
    "sys.path.append(parentdir)"
   ]
  },
  {
   "cell_type": "code",
   "execution_count": 3,
   "metadata": {},
   "outputs": [],
   "source": [
    "import nmdr.loaders.dataIO as spmData"
   ]
  },
  {
   "cell_type": "code",
   "execution_count": null,
   "metadata": {},
   "outputs": [],
   "source": [
    "folder_path = f\"../sts-storage/dpath/\"\n",
    "WS2_folder_path = \"run_WS2_defects/\""
   ]
  },
  {
   "cell_type": "code",
   "execution_count": null,
   "metadata": {},
   "outputs": [],
   "source": [
    "path = folder_path + WS2_folder_path\n",
    "file_path = path + \"dI_dV00026.dat\"\n",
    "file_path"
   ]
  },
  {
   "cell_type": "code",
   "execution_count": null,
   "metadata": {},
   "outputs": [],
   "source": [
    "# get list of files with .dat extension\n",
    "files = glob.glob(path+\"*.dat\")"
   ]
  },
  {
   "cell_type": "code",
   "execution_count": null,
   "metadata": {},
   "outputs": [],
   "source": [
    "# Grab bias sweep column from first data file. This will be the independent variable for the water fall plot \n",
    "bias_df = pd.read_csv(files[0],\n",
    "                     sep=\"\\s+\",\n",
    "                     skiprows=10, \n",
    "                     usecols=[0], \n",
    "                     names=['Bias (V)'])\n",
    "frames = []\n",
    "\n",
    "# Iterate through each file with extension .dat\n",
    "for file in files:\n",
    "    sts_df = pd.read_csv(file,\n",
    "                     sep=\"\\s+\",\n",
    "                     skiprows=10, \n",
    "                     usecols=[3], \n",
    "                     names=['dI/dV (A/V)'])\n",
    "    frames.append(sts_df)\n",
    "\n",
    "current_dfs = pd.concat(frames,1)\n",
    "current_dfs.head()"
   ]
  },
  {
   "cell_type": "code",
   "execution_count": null,
   "metadata": {},
   "outputs": [],
   "source": [
    "current_scaled_dfs = current_dfs.applymap(lambda x: x/(1e-11))\n",
    "current_scaled_dfs.head()"
   ]
  },
  {
   "cell_type": "code",
   "execution_count": null,
   "metadata": {},
   "outputs": [],
   "source": [
    "plt.xticks(bias_df.values)\n",
    "plt.imshow(current_dfs.T, interpolation='none')"
   ]
  },
  {
   "cell_type": "code",
   "execution_count": null,
   "metadata": {},
   "outputs": [],
   "source": [
    "plt.xticks(bias_df.values)\n",
    "plt.imshow(current_scaled_dfs.T, interpolation='none')"
   ]
  },
  {
   "cell_type": "code",
   "execution_count": null,
   "metadata": {},
   "outputs": [],
   "source": [
    "out = pd.concat([bias_df,current_dfs],axis=1)\n",
    "out.head()"
   ]
  },
  {
   "cell_type": "code",
   "execution_count": null,
   "metadata": {},
   "outputs": [],
   "source": [
    "out.to_csv(folder_path + \"/WS2_defects_all_dIdV_exp.dat\",index=False)"
   ]
  },
  {
   "cell_type": "code",
   "execution_count": 5,
   "metadata": {},
   "outputs": [],
   "source": [
    "# get list of files with .dat extension\n",
    "files = glob.glob('C:/Users/daria/Downloads/Grid Spectroscopy_WSe2-bright-defect003-PointSpec00023/*.dat')"
   ]
  },
  {
   "cell_type": "code",
   "execution_count": 7,
   "metadata": {},
   "outputs": [
    {
     "output_type": "execute_result",
     "data": {
      "text/plain": [
       "   Bias calc (V)   Current (A)\n",
       "0       -1.50000 -1.565010e-14\n",
       "1       -1.47794 -1.318080e-14\n",
       "2       -1.45588  3.110230e-14\n",
       "3       -1.43382 -6.462680e-14\n",
       "4       -1.41176  1.561340e-14"
      ],
      "text/html": "<div>\n<style scoped>\n    .dataframe tbody tr th:only-of-type {\n        vertical-align: middle;\n    }\n\n    .dataframe tbody tr th {\n        vertical-align: top;\n    }\n\n    .dataframe thead th {\n        text-align: right;\n    }\n</style>\n<table border=\"1\" class=\"dataframe\">\n  <thead>\n    <tr style=\"text-align: right;\">\n      <th></th>\n      <th>Bias calc (V)</th>\n      <th>Current (A)</th>\n    </tr>\n  </thead>\n  <tbody>\n    <tr>\n      <th>0</th>\n      <td>-1.50000</td>\n      <td>-1.565010e-14</td>\n    </tr>\n    <tr>\n      <th>1</th>\n      <td>-1.47794</td>\n      <td>-1.318080e-14</td>\n    </tr>\n    <tr>\n      <th>2</th>\n      <td>-1.45588</td>\n      <td>3.110230e-14</td>\n    </tr>\n    <tr>\n      <th>3</th>\n      <td>-1.43382</td>\n      <td>-6.462680e-14</td>\n    </tr>\n    <tr>\n      <th>4</th>\n      <td>-1.41176</td>\n      <td>1.561340e-14</td>\n    </tr>\n  </tbody>\n</table>\n</div>"
     },
     "metadata": {},
     "execution_count": 7
    }
   ],
   "source": [
    "data = spmData.load_data(files[0], translator='Nanonis-IV')\n",
    "data.head()"
   ]
  },
  {
   "cell_type": "code",
   "execution_count": 15,
   "metadata": {},
   "outputs": [],
   "source": [
    "dst = 'C:/Users/daria/Downloads/Grid Spectroscopy_WSe2-bright-defect003-PointSpec00023/'\n",
    "\n",
    "for i, file in enumerate(files):\n",
    "    plt.clf()\n",
    "    data = spmData.load_data(file, translator='Nanonis-IV')\n",
    "    plt.plot(data['Bias calc (V)'], data['Current (A)'], 'b', linewidth=6)\n",
    "    plt.savefig(f'{dst}/{i}.png', transparent=True, bbox_inches='tight')\n"
   ]
  },
  {
   "cell_type": "code",
   "execution_count": null,
   "metadata": {},
   "outputs": [],
   "source": []
  }
 ],
 "metadata": {
  "kernelspec": {
   "name": "python3",
   "display_name": "Python 3.7.3 64-bit ('base': conda)"
  },
  "language_info": {
   "codemirror_mode": {
    "name": "ipython",
    "version": 3
   },
   "file_extension": ".py",
   "mimetype": "text/x-python",
   "name": "python",
   "nbconvert_exporter": "python",
   "pygments_lexer": "ipython3",
   "version": "3.7.3"
  },
  "interpreter": {
   "hash": "8791c3445e9c5e132f91012905b8fbff9bd44eba9d1a9c1b06c8f2f0c2c64c95"
  }
 },
 "nbformat": 4,
 "nbformat_minor": 4
}