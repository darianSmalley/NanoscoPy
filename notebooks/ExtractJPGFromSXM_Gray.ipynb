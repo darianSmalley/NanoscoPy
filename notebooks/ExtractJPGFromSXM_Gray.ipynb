{
 "cells": [
  {
   "cell_type": "code",
   "execution_count": 27,
   "source": [
    "import pySPM\r\n",
    "import numpy as np\r\n",
    "import matplotlib.pyplot as plt\r\n",
    "import matplotlib as mpl\r\n",
    "\r\n",
    "import os\r\n",
    "from IPython import display"
   ],
   "outputs": [],
   "metadata": {}
  },
  {
   "cell_type": "code",
   "execution_count": 28,
   "source": [
    "#root_dir = 'C:\\\\Users\\\\Jesse\\\\Desktop\\\\STM AI\\\\Curated Data\\\\Sorted Images\\\\'\r\n",
    "#sxm_path = 'Au-111_Images\\\\'\r\n",
    "##source_dir = os.path.join(root_dir, sxm_path, 'atomic-lattice')\r\n",
    "#jpeg_path = 'Au-111_Images_jpeg\\\\'\r\n",
    "##target_dir = os.path.join(root_dir, jpeg_path,source_folder_path)\r\n",
    "##notherringboen_source_dir = os.path.join(root_dir, 'au-111_notherringbone_sxm\\\\')\r\n",
    "##unknown_source_dir = os.path.join(root_dir, 'au-111_unsure_sxm')\r\n",
    "\r\n",
    "root_dir = 'H:\\Research\\AI_STM\\sxm-storage'\r\n",
    "sxm_path = 'sxm files\\sorted\\Au-111'\r\n",
    "jpeg_path = 'Au-111_Images_jpeg_gray'"
   ],
   "outputs": [],
   "metadata": {}
  },
  {
   "cell_type": "code",
   "execution_count": 29,
   "source": [
    "def extract_as_jpg(src_dir, dst_dir, label):\r\n",
    "    for index, file in enumerate(os.listdir(src_dir)):\r\n",
    "        try:\r\n",
    "            if file.endswith(\".sxm\"):\r\n",
    "                # Read sxm STM data\r\n",
    "                src_path = os.path.join(src_dir,file)\r\n",
    "                data = pySPM.SXM(src_path)\r\n",
    "\r\n",
    "                try:\r\n",
    "                    image = data.get_channel('Z').correct_plane(inline=False).pixels\r\n",
    "                    matrix_image = np.asmatrix(image)\r\n",
    "                    dst_path = os.path.join(dst_dir,'{}.{}.jpg'.format(label,index))\r\n",
    "                    plt.imsave(dst_path, matrix_image,cmap='gray')\r\n",
    "\r\n",
    "                except Exception as e:\r\n",
    "                    print('Error detected:', e)\r\n",
    "\r\n",
    "        except Exception as e:\r\n",
    "            raise e\r\n",
    "            print(\"Error! No files found here\")\r\n",
    "\r\n",
    "    print('All files in folder have been saved as jpgs.')"
   ],
   "outputs": [],
   "metadata": {}
  },
  {
   "cell_type": "code",
   "execution_count": 30,
   "source": [
    "source_dir = os.path.join(root_dir, sxm_path, 'artifacts')\r\n",
    "target_dir = os.path.join(root_dir, jpeg_path,'artifacts')\r\n",
    "extract_as_jpg(source_dir, target_dir, 'artifacts')"
   ],
   "outputs": [
    {
     "output_type": "stream",
     "name": "stdout",
     "text": [
      "All files in folder have been saved as jpgs.\n"
     ]
    }
   ],
   "metadata": {}
  },
  {
   "cell_type": "code",
   "execution_count": 31,
   "source": [
    "source_dir = os.path.join(root_dir, sxm_path, 'atomic-lattice-clear')\r\n",
    "target_dir = os.path.join(root_dir, jpeg_path,'atomic-lattice-clear')\r\n",
    "extract_as_jpg(source_dir, target_dir, 'atomic_lattice_clear')"
   ],
   "outputs": [
    {
     "output_type": "stream",
     "name": "stdout",
     "text": [
      "All files in folder have been saved as jpgs.\n"
     ]
    }
   ],
   "metadata": {}
  },
  {
   "cell_type": "code",
   "execution_count": 39,
   "source": [
    "source_dir = os.path.join(root_dir, sxm_path, 'atomic-lattice-unclear')\r\n",
    "target_dir = os.path.join(root_dir, jpeg_path,'atomic-lattice-unclear')\r\n",
    "extract_as_jpg(source_dir, target_dir, 'atomic_lattice_unclear')"
   ],
   "outputs": [
    {
     "output_type": "stream",
     "name": "stdout",
     "text": [
      "All files in folder have been saved as jpgs.\n"
     ]
    }
   ],
   "metadata": {}
  },
  {
   "cell_type": "code",
   "execution_count": 33,
   "source": [
    "source_dir = os.path.join(root_dir, sxm_path, 'herringbone-clear')\n",
    "target_dir = os.path.join(root_dir, jpeg_path,'herringbone-clear')\n",
    "extract_as_jpg(source_dir, target_dir, 'herringbone_clear')"
   ],
   "outputs": [
    {
     "output_type": "stream",
     "name": "stdout",
     "text": [
      "All files in folder have been saved as jpgs.\n"
     ]
    }
   ],
   "metadata": {}
  },
  {
   "cell_type": "code",
   "execution_count": 34,
   "source": [
    "source_dir = os.path.join(root_dir, sxm_path, 'herringbone-unclear')\n",
    "target_dir = os.path.join(root_dir, jpeg_path,'herringbone-unclear')\n",
    "extract_as_jpg(source_dir, target_dir, 'herringbone_unclear')"
   ],
   "outputs": [
    {
     "output_type": "stream",
     "name": "stdout",
     "text": [
      "All files in folder have been saved as jpgs.\n"
     ]
    }
   ],
   "metadata": {}
  },
  {
   "cell_type": "code",
   "execution_count": 35,
   "source": [
    "source_dir = os.path.join(root_dir, sxm_path, 'other')\n",
    "target_dir = os.path.join(root_dir, jpeg_path,'other')\n",
    "extract_as_jpg(source_dir, target_dir, 'other')"
   ],
   "outputs": [
    {
     "output_type": "stream",
     "name": "stdout",
     "text": [
      "All files in folder have been saved as jpgs.\n"
     ]
    }
   ],
   "metadata": {}
  },
  {
   "cell_type": "code",
   "execution_count": 36,
   "source": [
    "source_dir = os.path.join(root_dir, sxm_path, 'steps-clear')\n",
    "target_dir = os.path.join(root_dir, jpeg_path,'steps-clear')\n",
    "extract_as_jpg(source_dir, target_dir, 'steps_clear')"
   ],
   "outputs": [
    {
     "output_type": "stream",
     "name": "stdout",
     "text": [
      "All files in folder have been saved as jpgs.\n"
     ]
    }
   ],
   "metadata": {}
  },
  {
   "cell_type": "code",
   "execution_count": 37,
   "source": [
    "source_dir = os.path.join(root_dir, sxm_path, 'steps-unclear')\n",
    "target_dir = os.path.join(root_dir, jpeg_path,'steps-unclear')\n",
    "extract_as_jpg(source_dir, target_dir, 'steps_unclear')"
   ],
   "outputs": [
    {
     "output_type": "stream",
     "name": "stdout",
     "text": [
      "All files in folder have been saved as jpgs.\n"
     ]
    }
   ],
   "metadata": {}
  },
  {
   "cell_type": "code",
   "execution_count": 38,
   "source": [
    "source_dir = os.path.join(root_dir, sxm_path, 'unsure')\n",
    "target_dir = os.path.join(root_dir, jpeg_path,'unsure')\n",
    "extract_as_jpg(source_dir, target_dir, 'unsure')"
   ],
   "outputs": [
    {
     "output_type": "stream",
     "name": "stdout",
     "text": [
      "All files in folder have been saved as jpgs.\n"
     ]
    }
   ],
   "metadata": {}
  },
  {
   "cell_type": "code",
   "execution_count": null,
   "source": [],
   "outputs": [],
   "metadata": {}
  }
 ],
 "metadata": {
  "kernelspec": {
   "display_name": "Python 3",
   "language": "python",
   "name": "python3"
  },
  "language_info": {
   "codemirror_mode": {
    "name": "ipython",
    "version": 3
   },
   "file_extension": ".py",
   "mimetype": "text/x-python",
   "name": "python",
   "nbconvert_exporter": "python",
   "pygments_lexer": "ipython3",
   "version": "3.8.5"
  }
 },
 "nbformat": 4,
 "nbformat_minor": 4
}