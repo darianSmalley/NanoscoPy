{
 "cells": [
  {
   "cell_type": "code",
   "execution_count": null,
   "source": [
    "import matplotlib.pyplot as plt\r\n",
    "from tkinter import Tk, filedialog, Label"
   ],
   "outputs": [],
   "metadata": {}
  },
  {
   "cell_type": "code",
   "execution_count": null,
   "source": [
    "def dialog_askdirectory():\r\n",
    "    root = Tk()\r\n",
    "    Label(root, text=\"Select data folder\")\r\n",
    "    folder_path = filedialog.askdirectory()\r\n",
    "    root.destroy()\r\n",
    "    return folder_path"
   ],
   "outputs": [],
   "metadata": {}
  },
  {
   "cell_type": "code",
   "execution_count": null,
   "source": [
    "def dialog_askfilename():\r\n",
    "    root = Tk()\r\n",
    "    Label(root, text=\"Select data folder\")\r\n",
    "    path = filedialog.askopenfilename() \r\n",
    "    root.destroy()\r\n",
    "    return  path"
   ],
   "outputs": [],
   "metadata": {}
  },
  {
   "cell_type": "code",
   "execution_count": null,
   "source": [
    "import nanoscopy as nano\r\n",
    "path = dialog_askfilename()\r\n",
    "images = nano.spm.io.read(path)"
   ],
   "outputs": [],
   "metadata": {}
  },
  {
   "cell_type": "code",
   "execution_count": null,
   "source": [
    "images[0].params"
   ],
   "outputs": [],
   "metadata": {}
  },
  {
   "cell_type": "code",
   "execution_count": null,
   "source": [
    "im=images[0]['Z'][0]\r\n",
    "plt.imshow(im)"
   ],
   "outputs": [],
   "metadata": {}
  },
  {
   "cell_type": "code",
   "execution_count": null,
   "source": [
    "data = images[0].get_data('Z')\r\n",
    "data"
   ],
   "outputs": [],
   "metadata": {}
  }
 ],
 "metadata": {
  "orig_nbformat": 4,
  "language_info": {
   "name": "python",
   "version": "3.8.8",
   "mimetype": "text/x-python",
   "codemirror_mode": {
    "name": "ipython",
    "version": 3
   },
   "pygments_lexer": "ipython3",
   "nbconvert_exporter": "python",
   "file_extension": ".py"
  },
  "kernelspec": {
   "name": "python3",
   "display_name": "Python 3.8.8 64-bit ('base': conda)"
  },
  "interpreter": {
   "hash": "878c4a9e861d33cbf12d5bd2a94fbc8e5da690485d6f164c335522f2e4135cfd"
  }
 },
 "nbformat": 4,
 "nbformat_minor": 2
}