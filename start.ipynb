{
 "cells": [
  {
   "cell_type": "code",
   "execution_count": 1,
   "source": [
    "import sys\r\n",
    "import matplotlib.pyplot as plt\r\n",
    "import glob\r\n",
    "import pandas as pd"
   ],
   "outputs": [],
   "metadata": {}
  },
  {
   "cell_type": "code",
   "execution_count": 4,
   "source": [
    "import nanoscopy as nano"
   ],
   "outputs": [],
   "metadata": {}
  },
  {
   "cell_type": "code",
   "execution_count": 7,
   "source": [
    "from tkinter import Tk, filedialog, Label\r\n",
    "root = Tk()\r\n",
    "Label(root, text=\"Select data folder\")\r\n",
    "folder_path = filedialog.askdirectory()\r\n",
    "root.destroy()"
   ],
   "outputs": [],
   "metadata": {}
  },
  {
   "cell_type": "code",
   "execution_count": 8,
   "source": [
    "frames = []\r\n",
    "filter = f\"{folder_path}/**/*.sxm\""
   ],
   "outputs": [],
   "metadata": {}
  },
  {
   "cell_type": "code",
   "execution_count": 12,
   "source": [
    "import pySPM\r\n",
    "\r\n",
    "file_paths = glob.glob(filter, recursive=True)\r\n",
    "sxm = pySPM.SXM(file_paths[0])\r\n",
    "sxm.header['SCAN_DIR'][0][0]"
   ],
   "outputs": [
    {
     "output_type": "execute_result",
     "data": {
      "text/plain": [
       "'down'"
      ]
     },
     "metadata": {},
     "execution_count": 12
    }
   ],
   "metadata": {}
  },
  {
   "cell_type": "code",
   "execution_count": null,
   "source": [
    " in glob.glob(filter, recursive=True):\r\n",
    "    sxm = pySPM.SXM(file)\r\n",
    "    labels = df.iloc[:,0]\r\n",
    "    frames.append(labels)\r\n",
    "\r\n",
    "labels_dfs = pd.concat(frames)\r\n",
    "labels_dfs.value_counts()"
   ],
   "outputs": [],
   "metadata": {}
  },
  {
   "cell_type": "code",
   "execution_count": null,
   "source": [
    "images = nano.spm.io.read(path)"
   ],
   "outputs": [],
   "metadata": {}
  }
 ],
 "metadata": {
  "orig_nbformat": 4,
  "language_info": {
   "name": "python",
   "version": "3.8.11",
   "mimetype": "text/x-python",
   "codemirror_mode": {
    "name": "ipython",
    "version": 3
   },
   "pygments_lexer": "ipython3",
   "nbconvert_exporter": "python",
   "file_extension": ".py"
  },
  "kernelspec": {
   "name": "python3",
   "display_name": "Python 3.8.11 64-bit ('nanoscopy': conda)"
  },
  "interpreter": {
   "hash": "41c0e5d4ac12ea0ff6cba928ef45da102e4f03149b91da5a730bd2fc895858a9"
  }
 },
 "nbformat": 4,
 "nbformat_minor": 2
}